{
 "cells": [
  {
   "cell_type": "markdown",
   "metadata": {},
   "source": [
    "# WeatherPy\n",
    "----\n",
    "\n",
    "#### Note\n",
    "* Instructions have been included for each segment. You do not have to follow them exactly, but they are included to help you think through the steps."
   ]
  },
  {
   "cell_type": "code",
   "execution_count": 12,
   "metadata": {
    "scrolled": true
   },
   "outputs": [],
   "source": [
    "# Dependencies and Setup\n",
    "import matplotlib.pyplot as plt\n",
    "import pandas as pd\n",
    "import numpy as np\n",
    "import requests\n",
    "import time\n",
    "from scipy import stats\n",
    "from scipy.stats import linregress\n",
    "\n",
    "# Import API key\n",
    "from api_keys import weather_api_key\n",
    "\n",
    "# Incorporated citipy to determine city based on latitude and longitude\n",
    "from citipy import citipy\n",
    "\n",
    "# Output File (CSV)\n",
    "output_data_file = \"output_data/cities.csv\"\n",
    "\n",
    "# Range of latitudes and longitudes\n",
    "lat_range = (-90, 90)\n",
    "lng_range = (-180, 180)"
   ]
  },
  {
   "cell_type": "markdown",
   "metadata": {},
   "source": [
    "## Generate Cities List"
   ]
  },
  {
   "cell_type": "code",
   "execution_count": 15,
   "metadata": {},
   "outputs": [
    {
     "name": "stdout",
     "output_type": "stream",
     "text": [
      "26\n",
      "['namatanai', 'mahebourg', 'winnemucca', 'mar del plata', 'butaritari', 'cape town', 'chippewa falls', 'busselton', 'olafsvik', 'saskylakh', 'vardo', 'komsomolskiy', 'quetta', 'aklavik', 'rikitea', 'yellowknife', 'hermanus', 'port keats', 'dikson', 'akyab', 'tera', 'kayerkan', 'atuona', 'pljevlja', 'tasiilaq', 'bredasdorp']\n"
     ]
    }
   ],
   "source": [
    "# List for holding lat_lngs and cities\n",
    "lat_lngs = []\n",
    "cities = []\n",
    "\n",
    "# Create a set of random lat and lng combinations\n",
    "lats = np.random.uniform(lat_range[0], lat_range[1], size=500)\n",
    "lngs = np.random.uniform(lng_range[0], lng_range[1], size=500)\n",
    "lat_lngs = zip(lats, lngs)\n",
    "\n",
    "# Identify nearest city for each lat, lng combination\n",
    "for lat_lng in lat_lngs:\n",
    "    city = citipy.nearest_city(lat_lng[0], lat_lng[1]).city_name\n",
    "    \n",
    "    # If the city is unique, then add it to a our cities list\n",
    "    if city not in cities:\n",
    "        cities.append(city)\n",
    "\n",
    "# Print the city count to confirm sufficient count\n",
    "print(len(cities))\n",
    "print(cities)"
   ]
  },
  {
   "cell_type": "markdown",
   "metadata": {},
   "source": [
    "### Perform API Calls\n",
    "* Perform a weather check on each city using a series of successive API calls.\n",
    "* Include a print log of each city as it'sbeing processed (with the city number and city name).\n"
   ]
  },
  {
   "cell_type": "code",
   "execution_count": 3,
   "metadata": {},
   "outputs": [],
   "source": [
    "## To save the demand and for troubleshooting, I am only calling 30 cities right now"
   ]
  },
  {
   "cell_type": "code",
   "execution_count": 4,
   "metadata": {},
   "outputs": [
    {
     "data": {
      "text/plain": [
       "['naze',\n",
       " 'saint george',\n",
       " 'chandler',\n",
       " 'barentsburg',\n",
       " 'littleton',\n",
       " 'udachnyy',\n",
       " 'ushuaia',\n",
       " 'kharp',\n",
       " 'hermanus',\n",
       " 'yellowknife',\n",
       " 'albany',\n",
       " 'puerto escondido',\n",
       " 'grand-santi',\n",
       " 'matara',\n",
       " 'saint-philippe',\n",
       " 'rikitea',\n",
       " 'norman wells',\n",
       " 'tarata',\n",
       " 'kurumkan',\n",
       " 'esperance',\n",
       " 'anloga',\n",
       " 'iqaluit',\n",
       " 'mar del plata',\n",
       " 'mataura',\n",
       " 'adelaide',\n",
       " 'tessalit']"
      ]
     },
     "execution_count": 4,
     "metadata": {},
     "output_type": "execute_result"
    }
   ],
   "source": [
    "cities"
   ]
  },
  {
   "cell_type": "code",
   "execution_count": 5,
   "metadata": {
    "scrolled": true
   },
   "outputs": [],
   "source": [
    "url = 'http://api.openweathermap.org/data/2.5/weather?'\n",
    "query_url = url + 'appid=' + weather_api_key + '&q='"
   ]
  },
  {
   "cell_type": "code",
   "execution_count": 16,
   "metadata": {},
   "outputs": [
    {
     "name": "stdout",
     "output_type": "stream",
     "text": [
      "namatanai\n",
      "[-3.6667]\n",
      "mahebourg\n",
      "[-3.6667, -20.4081]\n",
      "winnemucca\n",
      "[-3.6667, -20.4081, 40.973]\n",
      "mar del plata\n",
      "[-3.6667, -20.4081, 40.973, -38.0023]\n",
      "butaritari\n",
      "[-3.6667, -20.4081, 40.973, -38.0023, 3.0707]\n",
      "cape town\n",
      "[-3.6667, -20.4081, 40.973, -38.0023, 3.0707, -33.9258]\n",
      "chippewa falls\n",
      "[-3.6667, -20.4081, 40.973, -38.0023, 3.0707, -33.9258, 44.9369]\n",
      "busselton\n",
      "[-3.6667, -20.4081, 40.973, -38.0023, 3.0707, -33.9258, 44.9369, -33.65]\n",
      "olafsvik\n",
      "[-3.6667, -20.4081, 40.973, -38.0023, 3.0707, -33.9258, 44.9369, -33.65, 64.8945]\n",
      "saskylakh\n",
      "[-3.6667, -20.4081, 40.973, -38.0023, 3.0707, -33.9258, 44.9369, -33.65, 64.8945, 71.9167]\n",
      "vardo\n",
      "[-3.6667, -20.4081, 40.973, -38.0023, 3.0707, -33.9258, 44.9369, -33.65, 64.8945, 71.9167, 70.3705]\n",
      "komsomolskiy\n",
      "[-3.6667, -20.4081, 40.973, -38.0023, 3.0707, -33.9258, 44.9369, -33.65, 64.8945, 71.9167, 70.3705, 40.4272]\n",
      "quetta\n",
      "[-3.6667, -20.4081, 40.973, -38.0023, 3.0707, -33.9258, 44.9369, -33.65, 64.8945, 71.9167, 70.3705, 40.4272, 30.199]\n",
      "aklavik\n",
      "[-3.6667, -20.4081, 40.973, -38.0023, 3.0707, -33.9258, 44.9369, -33.65, 64.8945, 71.9167, 70.3705, 40.4272, 30.199, 68.2191]\n",
      "rikitea\n",
      "[-3.6667, -20.4081, 40.973, -38.0023, 3.0707, -33.9258, 44.9369, -33.65, 64.8945, 71.9167, 70.3705, 40.4272, 30.199, 68.2191, -23.1203]\n",
      "yellowknife\n",
      "[-3.6667, -20.4081, 40.973, -38.0023, 3.0707, -33.9258, 44.9369, -33.65, 64.8945, 71.9167, 70.3705, 40.4272, 30.199, 68.2191, -23.1203, 62.456]\n",
      "hermanus\n",
      "[-3.6667, -20.4081, 40.973, -38.0023, 3.0707, -33.9258, 44.9369, -33.65, 64.8945, 71.9167, 70.3705, 40.4272, 30.199, 68.2191, -23.1203, 62.456, -34.4187]\n",
      "port keats\n",
      "[-3.6667, -20.4081, 40.973, -38.0023, 3.0707, -33.9258, 44.9369, -33.65, 64.8945, 71.9167, 70.3705, 40.4272, 30.199, 68.2191, -23.1203, 62.456, -34.4187, -14.25]\n",
      "dikson\n",
      "[-3.6667, -20.4081, 40.973, -38.0023, 3.0707, -33.9258, 44.9369, -33.65, 64.8945, 71.9167, 70.3705, 40.4272, 30.199, 68.2191, -23.1203, 62.456, -34.4187, -14.25, 73.5069]\n",
      "akyab\n",
      "[-3.6667, -20.4081, 40.973, -38.0023, 3.0707, -33.9258, 44.9369, -33.65, 64.8945, 71.9167, 70.3705, 40.4272, 30.199, 68.2191, -23.1203, 62.456, -34.4187, -14.25, 73.5069, 20.15]\n",
      "tera\n",
      "[-3.6667, -20.4081, 40.973, -38.0023, 3.0707, -33.9258, 44.9369, -33.65, 64.8945, 71.9167, 70.3705, 40.4272, 30.199, 68.2191, -23.1203, 62.456, -34.4187, -14.25, 73.5069, 20.15, 14.0078]\n",
      "kayerkan\n",
      "[-3.6667, -20.4081, 40.973, -38.0023, 3.0707, -33.9258, 44.9369, -33.65, 64.8945, 71.9167, 70.3705, 40.4272, 30.199, 68.2191, -23.1203, 62.456, -34.4187, -14.25, 73.5069, 20.15, 14.0078, 69.3497]\n",
      "atuona\n",
      "[-3.6667, -20.4081, 40.973, -38.0023, 3.0707, -33.9258, 44.9369, -33.65, 64.8945, 71.9167, 70.3705, 40.4272, 30.199, 68.2191, -23.1203, 62.456, -34.4187, -14.25, 73.5069, 20.15, 14.0078, 69.3497, -9.8]\n",
      "pljevlja\n",
      "[-3.6667, -20.4081, 40.973, -38.0023, 3.0707, -33.9258, 44.9369, -33.65, 64.8945, 71.9167, 70.3705, 40.4272, 30.199, 68.2191, -23.1203, 62.456, -34.4187, -14.25, 73.5069, 20.15, 14.0078, 69.3497, -9.8, 43.3333]\n",
      "tasiilaq\n",
      "[-3.6667, -20.4081, 40.973, -38.0023, 3.0707, -33.9258, 44.9369, -33.65, 64.8945, 71.9167, 70.3705, 40.4272, 30.199, 68.2191, -23.1203, 62.456, -34.4187, -14.25, 73.5069, 20.15, 14.0078, 69.3497, -9.8, 43.3333, 65.6145]\n",
      "bredasdorp\n",
      "[-3.6667, -20.4081, 40.973, -38.0023, 3.0707, -33.9258, 44.9369, -33.65, 64.8945, 71.9167, 70.3705, 40.4272, 30.199, 68.2191, -23.1203, 62.456, -34.4187, -14.25, 73.5069, 20.15, 14.0078, 69.3497, -9.8, 43.3333, 65.6145, -34.5322]\n"
     ]
    }
   ],
   "source": [
    "lat = []\n",
    "lon = []\n",
    "maxtemp = []\n",
    "humidity = []\n",
    "clouds = []\n",
    "wind = []\n",
    "country = []\n",
    "dt = []\n",
    "for city in cities:\n",
    "    response = requests.get(query_url + city).json()\n",
    "    if response['cod']!=200:\n",
    "        print('Error ' + city)\n",
    "        cities.remove(city)\n",
    "    else:\n",
    "        print(city)\n",
    "        lat.append(response['coord']['lat'])\n",
    "        print(lat)\n",
    "        lon.append(response['coord']['lon'])\n",
    "        maxtemp.append(response['main']['temp_max'])\n",
    "        humidity.append(response['main']['humidity'])\n",
    "        clouds.append(response['clouds']['all'])\n",
    "        wind.append(response['wind']['speed'])\n",
    "        country.append(response['sys']['country'])\n",
    "        dt.append(response['dt'])\n",
    "    "
   ]
  },
  {
   "cell_type": "code",
   "execution_count": 17,
   "metadata": {},
   "outputs": [
    {
     "name": "stdout",
     "output_type": "stream",
     "text": [
      "26 26\n"
     ]
    }
   ],
   "source": [
    "print(str(len(cities)) + \" \" + str(len(lon)))"
   ]
  },
  {
   "cell_type": "code",
   "execution_count": 18,
   "metadata": {},
   "outputs": [
    {
     "name": "stdout",
     "output_type": "stream",
     "text": [
      "['namatanai', 'mahebourg', 'winnemucca', 'mar del plata', 'butaritari', 'cape town', 'chippewa falls', 'busselton', 'olafsvik', 'saskylakh', 'vardo', 'komsomolskiy', 'quetta', 'aklavik', 'rikitea', 'yellowknife', 'hermanus', 'port keats', 'dikson', 'akyab', 'tera', 'kayerkan', 'atuona', 'pljevlja', 'tasiilaq', 'bredasdorp']\n"
     ]
    }
   ],
   "source": [
    "print(cities)"
   ]
  },
  {
   "cell_type": "code",
   "execution_count": 27,
   "metadata": {},
   "outputs": [],
   "source": [
    "weather_dict = {\n",
    "    \"City\": cities,\n",
    "    \"Lat\": lat,\n",
    "    \"Long\": lon,\n",
    "    \"Max Temp\": maxtemp,\n",
    "    \"Humidity\": humidity,\n",
    "    \"Cloudiness\": clouds,\n",
    "    \"Wind Speed\": wind,\n",
    "    \"Country\": country,\n",
    "    \"Date\": dt\n",
    "}\n",
    "weather_data = pd.DataFrame(weather_dict)"
   ]
  },
  {
   "cell_type": "markdown",
   "metadata": {},
   "source": [
    "### Convert Raw Data to DataFrame\n",
    "* Export the city data into a .csv.\n",
    "* Display the DataFrame"
   ]
  },
  {
   "cell_type": "code",
   "execution_count": 28,
   "metadata": {},
   "outputs": [
    {
     "data": {
      "text/html": [
       "<div>\n",
       "<style scoped>\n",
       "    .dataframe tbody tr th:only-of-type {\n",
       "        vertical-align: middle;\n",
       "    }\n",
       "\n",
       "    .dataframe tbody tr th {\n",
       "        vertical-align: top;\n",
       "    }\n",
       "\n",
       "    .dataframe thead th {\n",
       "        text-align: right;\n",
       "    }\n",
       "</style>\n",
       "<table border=\"1\" class=\"dataframe\">\n",
       "  <thead>\n",
       "    <tr style=\"text-align: right;\">\n",
       "      <th></th>\n",
       "      <th>City</th>\n",
       "      <th>Lat</th>\n",
       "      <th>Long</th>\n",
       "      <th>Max Temp</th>\n",
       "      <th>Humidity</th>\n",
       "      <th>Cloudiness</th>\n",
       "      <th>Wind Speed</th>\n",
       "      <th>Country</th>\n",
       "      <th>Date</th>\n",
       "    </tr>\n",
       "  </thead>\n",
       "  <tbody>\n",
       "    <tr>\n",
       "      <th>0</th>\n",
       "      <td>namatanai</td>\n",
       "      <td>-3.6667</td>\n",
       "      <td>152.4333</td>\n",
       "      <td>299.05</td>\n",
       "      <td>81</td>\n",
       "      <td>95</td>\n",
       "      <td>0.62</td>\n",
       "      <td>PG</td>\n",
       "      <td>1619982983</td>\n",
       "    </tr>\n",
       "    <tr>\n",
       "      <th>1</th>\n",
       "      <td>mahebourg</td>\n",
       "      <td>-20.4081</td>\n",
       "      <td>57.7000</td>\n",
       "      <td>297.15</td>\n",
       "      <td>94</td>\n",
       "      <td>20</td>\n",
       "      <td>3.09</td>\n",
       "      <td>MU</td>\n",
       "      <td>1619982981</td>\n",
       "    </tr>\n",
       "    <tr>\n",
       "      <th>2</th>\n",
       "      <td>winnemucca</td>\n",
       "      <td>40.9730</td>\n",
       "      <td>-117.7357</td>\n",
       "      <td>287.15</td>\n",
       "      <td>44</td>\n",
       "      <td>90</td>\n",
       "      <td>5.14</td>\n",
       "      <td>US</td>\n",
       "      <td>1619982848</td>\n",
       "    </tr>\n",
       "    <tr>\n",
       "      <th>3</th>\n",
       "      <td>mar del plata</td>\n",
       "      <td>-38.0023</td>\n",
       "      <td>-57.5575</td>\n",
       "      <td>294.26</td>\n",
       "      <td>68</td>\n",
       "      <td>0</td>\n",
       "      <td>4.63</td>\n",
       "      <td>AR</td>\n",
       "      <td>1619982340</td>\n",
       "    </tr>\n",
       "    <tr>\n",
       "      <th>4</th>\n",
       "      <td>butaritari</td>\n",
       "      <td>3.0707</td>\n",
       "      <td>172.7902</td>\n",
       "      <td>301.60</td>\n",
       "      <td>74</td>\n",
       "      <td>100</td>\n",
       "      <td>6.10</td>\n",
       "      <td>KI</td>\n",
       "      <td>1619982984</td>\n",
       "    </tr>\n",
       "    <tr>\n",
       "      <th>5</th>\n",
       "      <td>cape town</td>\n",
       "      <td>-33.9258</td>\n",
       "      <td>18.4232</td>\n",
       "      <td>292.59</td>\n",
       "      <td>55</td>\n",
       "      <td>0</td>\n",
       "      <td>5.14</td>\n",
       "      <td>ZA</td>\n",
       "      <td>1619982911</td>\n",
       "    </tr>\n",
       "    <tr>\n",
       "      <th>6</th>\n",
       "      <td>chippewa falls</td>\n",
       "      <td>44.9369</td>\n",
       "      <td>-91.3929</td>\n",
       "      <td>294.15</td>\n",
       "      <td>43</td>\n",
       "      <td>75</td>\n",
       "      <td>2.57</td>\n",
       "      <td>US</td>\n",
       "      <td>1619982985</td>\n",
       "    </tr>\n",
       "    <tr>\n",
       "      <th>7</th>\n",
       "      <td>busselton</td>\n",
       "      <td>-33.6500</td>\n",
       "      <td>115.3333</td>\n",
       "      <td>286.48</td>\n",
       "      <td>93</td>\n",
       "      <td>58</td>\n",
       "      <td>6.88</td>\n",
       "      <td>AU</td>\n",
       "      <td>1619982985</td>\n",
       "    </tr>\n",
       "    <tr>\n",
       "      <th>8</th>\n",
       "      <td>olafsvik</td>\n",
       "      <td>64.8945</td>\n",
       "      <td>-23.7142</td>\n",
       "      <td>276.84</td>\n",
       "      <td>55</td>\n",
       "      <td>0</td>\n",
       "      <td>5.07</td>\n",
       "      <td>IS</td>\n",
       "      <td>1619982986</td>\n",
       "    </tr>\n",
       "    <tr>\n",
       "      <th>9</th>\n",
       "      <td>saskylakh</td>\n",
       "      <td>71.9167</td>\n",
       "      <td>114.0833</td>\n",
       "      <td>270.53</td>\n",
       "      <td>87</td>\n",
       "      <td>100</td>\n",
       "      <td>3.23</td>\n",
       "      <td>RU</td>\n",
       "      <td>1619982986</td>\n",
       "    </tr>\n",
       "    <tr>\n",
       "      <th>10</th>\n",
       "      <td>vardo</td>\n",
       "      <td>70.3705</td>\n",
       "      <td>31.1107</td>\n",
       "      <td>271.15</td>\n",
       "      <td>74</td>\n",
       "      <td>20</td>\n",
       "      <td>2.57</td>\n",
       "      <td>NO</td>\n",
       "      <td>1619982987</td>\n",
       "    </tr>\n",
       "    <tr>\n",
       "      <th>11</th>\n",
       "      <td>komsomolskiy</td>\n",
       "      <td>40.4272</td>\n",
       "      <td>71.7189</td>\n",
       "      <td>293.15</td>\n",
       "      <td>56</td>\n",
       "      <td>100</td>\n",
       "      <td>3.09</td>\n",
       "      <td>UZ</td>\n",
       "      <td>1619982987</td>\n",
       "    </tr>\n",
       "    <tr>\n",
       "      <th>12</th>\n",
       "      <td>quetta</td>\n",
       "      <td>30.1990</td>\n",
       "      <td>67.0097</td>\n",
       "      <td>290.74</td>\n",
       "      <td>56</td>\n",
       "      <td>96</td>\n",
       "      <td>0.99</td>\n",
       "      <td>PK</td>\n",
       "      <td>1619982987</td>\n",
       "    </tr>\n",
       "    <tr>\n",
       "      <th>13</th>\n",
       "      <td>aklavik</td>\n",
       "      <td>68.2191</td>\n",
       "      <td>-135.0107</td>\n",
       "      <td>272.15</td>\n",
       "      <td>74</td>\n",
       "      <td>75</td>\n",
       "      <td>2.57</td>\n",
       "      <td>CA</td>\n",
       "      <td>1619982988</td>\n",
       "    </tr>\n",
       "    <tr>\n",
       "      <th>14</th>\n",
       "      <td>rikitea</td>\n",
       "      <td>-23.1203</td>\n",
       "      <td>-134.9692</td>\n",
       "      <td>298.44</td>\n",
       "      <td>76</td>\n",
       "      <td>63</td>\n",
       "      <td>7.41</td>\n",
       "      <td>PF</td>\n",
       "      <td>1619982553</td>\n",
       "    </tr>\n",
       "    <tr>\n",
       "      <th>15</th>\n",
       "      <td>yellowknife</td>\n",
       "      <td>62.4560</td>\n",
       "      <td>-114.3525</td>\n",
       "      <td>270.15</td>\n",
       "      <td>43</td>\n",
       "      <td>1</td>\n",
       "      <td>2.57</td>\n",
       "      <td>CA</td>\n",
       "      <td>1619982551</td>\n",
       "    </tr>\n",
       "    <tr>\n",
       "      <th>16</th>\n",
       "      <td>hermanus</td>\n",
       "      <td>-34.4187</td>\n",
       "      <td>19.2345</td>\n",
       "      <td>288.15</td>\n",
       "      <td>73</td>\n",
       "      <td>0</td>\n",
       "      <td>4.08</td>\n",
       "      <td>ZA</td>\n",
       "      <td>1619982331</td>\n",
       "    </tr>\n",
       "    <tr>\n",
       "      <th>17</th>\n",
       "      <td>port keats</td>\n",
       "      <td>-14.2500</td>\n",
       "      <td>129.5500</td>\n",
       "      <td>296.21</td>\n",
       "      <td>50</td>\n",
       "      <td>1</td>\n",
       "      <td>3.47</td>\n",
       "      <td>AU</td>\n",
       "      <td>1619982989</td>\n",
       "    </tr>\n",
       "    <tr>\n",
       "      <th>18</th>\n",
       "      <td>dikson</td>\n",
       "      <td>73.5069</td>\n",
       "      <td>80.5464</td>\n",
       "      <td>268.12</td>\n",
       "      <td>92</td>\n",
       "      <td>100</td>\n",
       "      <td>4.31</td>\n",
       "      <td>RU</td>\n",
       "      <td>1619982989</td>\n",
       "    </tr>\n",
       "    <tr>\n",
       "      <th>19</th>\n",
       "      <td>akyab</td>\n",
       "      <td>20.1500</td>\n",
       "      <td>92.9000</td>\n",
       "      <td>300.84</td>\n",
       "      <td>72</td>\n",
       "      <td>0</td>\n",
       "      <td>2.69</td>\n",
       "      <td>MM</td>\n",
       "      <td>1619982990</td>\n",
       "    </tr>\n",
       "    <tr>\n",
       "      <th>20</th>\n",
       "      <td>tera</td>\n",
       "      <td>14.0078</td>\n",
       "      <td>0.7531</td>\n",
       "      <td>310.95</td>\n",
       "      <td>7</td>\n",
       "      <td>6</td>\n",
       "      <td>3.83</td>\n",
       "      <td>NE</td>\n",
       "      <td>1619982990</td>\n",
       "    </tr>\n",
       "    <tr>\n",
       "      <th>21</th>\n",
       "      <td>kayerkan</td>\n",
       "      <td>69.3497</td>\n",
       "      <td>87.7602</td>\n",
       "      <td>262.94</td>\n",
       "      <td>91</td>\n",
       "      <td>32</td>\n",
       "      <td>1.88</td>\n",
       "      <td>RU</td>\n",
       "      <td>1619982991</td>\n",
       "    </tr>\n",
       "    <tr>\n",
       "      <th>22</th>\n",
       "      <td>atuona</td>\n",
       "      <td>-9.8000</td>\n",
       "      <td>-139.0333</td>\n",
       "      <td>299.88</td>\n",
       "      <td>77</td>\n",
       "      <td>87</td>\n",
       "      <td>5.94</td>\n",
       "      <td>PF</td>\n",
       "      <td>1619982991</td>\n",
       "    </tr>\n",
       "    <tr>\n",
       "      <th>23</th>\n",
       "      <td>pljevlja</td>\n",
       "      <td>43.3333</td>\n",
       "      <td>19.3333</td>\n",
       "      <td>288.15</td>\n",
       "      <td>44</td>\n",
       "      <td>0</td>\n",
       "      <td>2.57</td>\n",
       "      <td>ME</td>\n",
       "      <td>1619982991</td>\n",
       "    </tr>\n",
       "    <tr>\n",
       "      <th>24</th>\n",
       "      <td>tasiilaq</td>\n",
       "      <td>65.6145</td>\n",
       "      <td>-37.6368</td>\n",
       "      <td>275.15</td>\n",
       "      <td>64</td>\n",
       "      <td>0</td>\n",
       "      <td>4.63</td>\n",
       "      <td>GL</td>\n",
       "      <td>1619982992</td>\n",
       "    </tr>\n",
       "    <tr>\n",
       "      <th>25</th>\n",
       "      <td>bredasdorp</td>\n",
       "      <td>-34.5322</td>\n",
       "      <td>20.0403</td>\n",
       "      <td>285.15</td>\n",
       "      <td>87</td>\n",
       "      <td>0</td>\n",
       "      <td>1.39</td>\n",
       "      <td>ZA</td>\n",
       "      <td>1619982992</td>\n",
       "    </tr>\n",
       "  </tbody>\n",
       "</table>\n",
       "</div>"
      ],
      "text/plain": [
       "              City      Lat      Long  Max Temp  Humidity  Cloudiness  \\\n",
       "0        namatanai  -3.6667  152.4333    299.05        81          95   \n",
       "1        mahebourg -20.4081   57.7000    297.15        94          20   \n",
       "2       winnemucca  40.9730 -117.7357    287.15        44          90   \n",
       "3    mar del plata -38.0023  -57.5575    294.26        68           0   \n",
       "4       butaritari   3.0707  172.7902    301.60        74         100   \n",
       "5        cape town -33.9258   18.4232    292.59        55           0   \n",
       "6   chippewa falls  44.9369  -91.3929    294.15        43          75   \n",
       "7        busselton -33.6500  115.3333    286.48        93          58   \n",
       "8         olafsvik  64.8945  -23.7142    276.84        55           0   \n",
       "9        saskylakh  71.9167  114.0833    270.53        87         100   \n",
       "10           vardo  70.3705   31.1107    271.15        74          20   \n",
       "11    komsomolskiy  40.4272   71.7189    293.15        56         100   \n",
       "12          quetta  30.1990   67.0097    290.74        56          96   \n",
       "13         aklavik  68.2191 -135.0107    272.15        74          75   \n",
       "14         rikitea -23.1203 -134.9692    298.44        76          63   \n",
       "15     yellowknife  62.4560 -114.3525    270.15        43           1   \n",
       "16        hermanus -34.4187   19.2345    288.15        73           0   \n",
       "17      port keats -14.2500  129.5500    296.21        50           1   \n",
       "18          dikson  73.5069   80.5464    268.12        92         100   \n",
       "19           akyab  20.1500   92.9000    300.84        72           0   \n",
       "20            tera  14.0078    0.7531    310.95         7           6   \n",
       "21        kayerkan  69.3497   87.7602    262.94        91          32   \n",
       "22          atuona  -9.8000 -139.0333    299.88        77          87   \n",
       "23        pljevlja  43.3333   19.3333    288.15        44           0   \n",
       "24        tasiilaq  65.6145  -37.6368    275.15        64           0   \n",
       "25      bredasdorp -34.5322   20.0403    285.15        87           0   \n",
       "\n",
       "    Wind Speed Country        Date  \n",
       "0         0.62      PG  1619982983  \n",
       "1         3.09      MU  1619982981  \n",
       "2         5.14      US  1619982848  \n",
       "3         4.63      AR  1619982340  \n",
       "4         6.10      KI  1619982984  \n",
       "5         5.14      ZA  1619982911  \n",
       "6         2.57      US  1619982985  \n",
       "7         6.88      AU  1619982985  \n",
       "8         5.07      IS  1619982986  \n",
       "9         3.23      RU  1619982986  \n",
       "10        2.57      NO  1619982987  \n",
       "11        3.09      UZ  1619982987  \n",
       "12        0.99      PK  1619982987  \n",
       "13        2.57      CA  1619982988  \n",
       "14        7.41      PF  1619982553  \n",
       "15        2.57      CA  1619982551  \n",
       "16        4.08      ZA  1619982331  \n",
       "17        3.47      AU  1619982989  \n",
       "18        4.31      RU  1619982989  \n",
       "19        2.69      MM  1619982990  \n",
       "20        3.83      NE  1619982990  \n",
       "21        1.88      RU  1619982991  \n",
       "22        5.94      PF  1619982991  \n",
       "23        2.57      ME  1619982991  \n",
       "24        4.63      GL  1619982992  \n",
       "25        1.39      ZA  1619982992  "
      ]
     },
     "execution_count": 28,
     "metadata": {},
     "output_type": "execute_result"
    }
   ],
   "source": [
    "weather_data"
   ]
  },
  {
   "cell_type": "code",
   "execution_count": 29,
   "metadata": {},
   "outputs": [],
   "source": [
    "weather_data.to_csv(output_data_file)"
   ]
  },
  {
   "cell_type": "code",
   "execution_count": 30,
   "metadata": {},
   "outputs": [
    {
     "data": {
      "text/html": [
       "<div>\n",
       "<style scoped>\n",
       "    .dataframe tbody tr th:only-of-type {\n",
       "        vertical-align: middle;\n",
       "    }\n",
       "\n",
       "    .dataframe tbody tr th {\n",
       "        vertical-align: top;\n",
       "    }\n",
       "\n",
       "    .dataframe thead th {\n",
       "        text-align: right;\n",
       "    }\n",
       "</style>\n",
       "<table border=\"1\" class=\"dataframe\">\n",
       "  <thead>\n",
       "    <tr style=\"text-align: right;\">\n",
       "      <th></th>\n",
       "      <th>Lat</th>\n",
       "      <th>Long</th>\n",
       "      <th>Max Temp</th>\n",
       "      <th>Humidity</th>\n",
       "      <th>Cloudiness</th>\n",
       "      <th>Wind Speed</th>\n",
       "      <th>Date</th>\n",
       "    </tr>\n",
       "  </thead>\n",
       "  <tbody>\n",
       "    <tr>\n",
       "      <th>count</th>\n",
       "      <td>26.000000</td>\n",
       "      <td>26.000000</td>\n",
       "      <td>26.000000</td>\n",
       "      <td>26.000000</td>\n",
       "      <td>26.000000</td>\n",
       "      <td>26.000000</td>\n",
       "      <td>2.600000e+01</td>\n",
       "    </tr>\n",
       "    <tr>\n",
       "      <th>mean</th>\n",
       "      <td>20.678912</td>\n",
       "      <td>15.358369</td>\n",
       "      <td>287.350769</td>\n",
       "      <td>66.538462</td>\n",
       "      <td>43.038462</td>\n",
       "      <td>3.710000</td>\n",
       "      <td>1.619983e+09</td>\n",
       "    </tr>\n",
       "    <tr>\n",
       "      <th>std</th>\n",
       "      <td>41.178551</td>\n",
       "      <td>94.795211</td>\n",
       "      <td>12.655575</td>\n",
       "      <td>20.615006</td>\n",
       "      <td>42.986026</td>\n",
       "      <td>1.753173</td>\n",
       "      <td>2.035609e+02</td>\n",
       "    </tr>\n",
       "    <tr>\n",
       "      <th>min</th>\n",
       "      <td>-38.002300</td>\n",
       "      <td>-139.033300</td>\n",
       "      <td>262.940000</td>\n",
       "      <td>7.000000</td>\n",
       "      <td>0.000000</td>\n",
       "      <td>0.620000</td>\n",
       "      <td>1.619982e+09</td>\n",
       "    </tr>\n",
       "    <tr>\n",
       "      <th>25%</th>\n",
       "      <td>-18.868575</td>\n",
       "      <td>-52.577325</td>\n",
       "      <td>275.572500</td>\n",
       "      <td>55.000000</td>\n",
       "      <td>0.000000</td>\n",
       "      <td>2.570000</td>\n",
       "      <td>1.619983e+09</td>\n",
       "    </tr>\n",
       "    <tr>\n",
       "      <th>50%</th>\n",
       "      <td>25.174500</td>\n",
       "      <td>19.686800</td>\n",
       "      <td>289.445000</td>\n",
       "      <td>72.500000</td>\n",
       "      <td>26.000000</td>\n",
       "      <td>3.350000</td>\n",
       "      <td>1.619983e+09</td>\n",
       "    </tr>\n",
       "    <tr>\n",
       "      <th>75%</th>\n",
       "      <td>64.284875</td>\n",
       "      <td>85.956750</td>\n",
       "      <td>296.915000</td>\n",
       "      <td>80.000000</td>\n",
       "      <td>89.250000</td>\n",
       "      <td>4.960000</td>\n",
       "      <td>1.619983e+09</td>\n",
       "    </tr>\n",
       "    <tr>\n",
       "      <th>max</th>\n",
       "      <td>73.506900</td>\n",
       "      <td>172.790200</td>\n",
       "      <td>310.950000</td>\n",
       "      <td>94.000000</td>\n",
       "      <td>100.000000</td>\n",
       "      <td>7.410000</td>\n",
       "      <td>1.619983e+09</td>\n",
       "    </tr>\n",
       "  </tbody>\n",
       "</table>\n",
       "</div>"
      ],
      "text/plain": [
       "             Lat        Long    Max Temp   Humidity  Cloudiness  Wind Speed  \\\n",
       "count  26.000000   26.000000   26.000000  26.000000   26.000000   26.000000   \n",
       "mean   20.678912   15.358369  287.350769  66.538462   43.038462    3.710000   \n",
       "std    41.178551   94.795211   12.655575  20.615006   42.986026    1.753173   \n",
       "min   -38.002300 -139.033300  262.940000   7.000000    0.000000    0.620000   \n",
       "25%   -18.868575  -52.577325  275.572500  55.000000    0.000000    2.570000   \n",
       "50%    25.174500   19.686800  289.445000  72.500000   26.000000    3.350000   \n",
       "75%    64.284875   85.956750  296.915000  80.000000   89.250000    4.960000   \n",
       "max    73.506900  172.790200  310.950000  94.000000  100.000000    7.410000   \n",
       "\n",
       "               Date  \n",
       "count  2.600000e+01  \n",
       "mean   1.619983e+09  \n",
       "std    2.035609e+02  \n",
       "min    1.619982e+09  \n",
       "25%    1.619983e+09  \n",
       "50%    1.619983e+09  \n",
       "75%    1.619983e+09  \n",
       "max    1.619983e+09  "
      ]
     },
     "execution_count": 30,
     "metadata": {},
     "output_type": "execute_result"
    }
   ],
   "source": [
    "weather_data.describe()"
   ]
  },
  {
   "cell_type": "markdown",
   "metadata": {},
   "source": [
    "## Inspect the data and remove the cities where the humidity > 100%.\n",
    "----\n",
    "Skip this step if there are no cities that have humidity > 100%. "
   ]
  },
  {
   "cell_type": "code",
   "execution_count": 31,
   "metadata": {},
   "outputs": [
    {
     "data": {
      "text/html": [
       "<div>\n",
       "<style scoped>\n",
       "    .dataframe tbody tr th:only-of-type {\n",
       "        vertical-align: middle;\n",
       "    }\n",
       "\n",
       "    .dataframe tbody tr th {\n",
       "        vertical-align: top;\n",
       "    }\n",
       "\n",
       "    .dataframe thead th {\n",
       "        text-align: right;\n",
       "    }\n",
       "</style>\n",
       "<table border=\"1\" class=\"dataframe\">\n",
       "  <thead>\n",
       "    <tr style=\"text-align: right;\">\n",
       "      <th></th>\n",
       "      <th>City</th>\n",
       "      <th>Lat</th>\n",
       "      <th>Long</th>\n",
       "      <th>Max Temp</th>\n",
       "      <th>Humidity</th>\n",
       "      <th>Cloudiness</th>\n",
       "      <th>Wind Speed</th>\n",
       "      <th>Country</th>\n",
       "      <th>Date</th>\n",
       "    </tr>\n",
       "  </thead>\n",
       "  <tbody>\n",
       "    <tr>\n",
       "      <th>0</th>\n",
       "      <td>namatanai</td>\n",
       "      <td>-3.6667</td>\n",
       "      <td>152.4333</td>\n",
       "      <td>299.05</td>\n",
       "      <td>81</td>\n",
       "      <td>95</td>\n",
       "      <td>0.62</td>\n",
       "      <td>PG</td>\n",
       "      <td>1619982983</td>\n",
       "    </tr>\n",
       "    <tr>\n",
       "      <th>1</th>\n",
       "      <td>mahebourg</td>\n",
       "      <td>-20.4081</td>\n",
       "      <td>57.7000</td>\n",
       "      <td>297.15</td>\n",
       "      <td>94</td>\n",
       "      <td>20</td>\n",
       "      <td>3.09</td>\n",
       "      <td>MU</td>\n",
       "      <td>1619982981</td>\n",
       "    </tr>\n",
       "    <tr>\n",
       "      <th>2</th>\n",
       "      <td>winnemucca</td>\n",
       "      <td>40.9730</td>\n",
       "      <td>-117.7357</td>\n",
       "      <td>287.15</td>\n",
       "      <td>44</td>\n",
       "      <td>90</td>\n",
       "      <td>5.14</td>\n",
       "      <td>US</td>\n",
       "      <td>1619982848</td>\n",
       "    </tr>\n",
       "    <tr>\n",
       "      <th>3</th>\n",
       "      <td>mar del plata</td>\n",
       "      <td>-38.0023</td>\n",
       "      <td>-57.5575</td>\n",
       "      <td>294.26</td>\n",
       "      <td>68</td>\n",
       "      <td>0</td>\n",
       "      <td>4.63</td>\n",
       "      <td>AR</td>\n",
       "      <td>1619982340</td>\n",
       "    </tr>\n",
       "    <tr>\n",
       "      <th>4</th>\n",
       "      <td>butaritari</td>\n",
       "      <td>3.0707</td>\n",
       "      <td>172.7902</td>\n",
       "      <td>301.60</td>\n",
       "      <td>74</td>\n",
       "      <td>100</td>\n",
       "      <td>6.10</td>\n",
       "      <td>KI</td>\n",
       "      <td>1619982984</td>\n",
       "    </tr>\n",
       "    <tr>\n",
       "      <th>5</th>\n",
       "      <td>cape town</td>\n",
       "      <td>-33.9258</td>\n",
       "      <td>18.4232</td>\n",
       "      <td>292.59</td>\n",
       "      <td>55</td>\n",
       "      <td>0</td>\n",
       "      <td>5.14</td>\n",
       "      <td>ZA</td>\n",
       "      <td>1619982911</td>\n",
       "    </tr>\n",
       "    <tr>\n",
       "      <th>6</th>\n",
       "      <td>chippewa falls</td>\n",
       "      <td>44.9369</td>\n",
       "      <td>-91.3929</td>\n",
       "      <td>294.15</td>\n",
       "      <td>43</td>\n",
       "      <td>75</td>\n",
       "      <td>2.57</td>\n",
       "      <td>US</td>\n",
       "      <td>1619982985</td>\n",
       "    </tr>\n",
       "    <tr>\n",
       "      <th>7</th>\n",
       "      <td>busselton</td>\n",
       "      <td>-33.6500</td>\n",
       "      <td>115.3333</td>\n",
       "      <td>286.48</td>\n",
       "      <td>93</td>\n",
       "      <td>58</td>\n",
       "      <td>6.88</td>\n",
       "      <td>AU</td>\n",
       "      <td>1619982985</td>\n",
       "    </tr>\n",
       "    <tr>\n",
       "      <th>8</th>\n",
       "      <td>olafsvik</td>\n",
       "      <td>64.8945</td>\n",
       "      <td>-23.7142</td>\n",
       "      <td>276.84</td>\n",
       "      <td>55</td>\n",
       "      <td>0</td>\n",
       "      <td>5.07</td>\n",
       "      <td>IS</td>\n",
       "      <td>1619982986</td>\n",
       "    </tr>\n",
       "    <tr>\n",
       "      <th>9</th>\n",
       "      <td>saskylakh</td>\n",
       "      <td>71.9167</td>\n",
       "      <td>114.0833</td>\n",
       "      <td>270.53</td>\n",
       "      <td>87</td>\n",
       "      <td>100</td>\n",
       "      <td>3.23</td>\n",
       "      <td>RU</td>\n",
       "      <td>1619982986</td>\n",
       "    </tr>\n",
       "    <tr>\n",
       "      <th>10</th>\n",
       "      <td>vardo</td>\n",
       "      <td>70.3705</td>\n",
       "      <td>31.1107</td>\n",
       "      <td>271.15</td>\n",
       "      <td>74</td>\n",
       "      <td>20</td>\n",
       "      <td>2.57</td>\n",
       "      <td>NO</td>\n",
       "      <td>1619982987</td>\n",
       "    </tr>\n",
       "    <tr>\n",
       "      <th>11</th>\n",
       "      <td>komsomolskiy</td>\n",
       "      <td>40.4272</td>\n",
       "      <td>71.7189</td>\n",
       "      <td>293.15</td>\n",
       "      <td>56</td>\n",
       "      <td>100</td>\n",
       "      <td>3.09</td>\n",
       "      <td>UZ</td>\n",
       "      <td>1619982987</td>\n",
       "    </tr>\n",
       "    <tr>\n",
       "      <th>12</th>\n",
       "      <td>quetta</td>\n",
       "      <td>30.1990</td>\n",
       "      <td>67.0097</td>\n",
       "      <td>290.74</td>\n",
       "      <td>56</td>\n",
       "      <td>96</td>\n",
       "      <td>0.99</td>\n",
       "      <td>PK</td>\n",
       "      <td>1619982987</td>\n",
       "    </tr>\n",
       "    <tr>\n",
       "      <th>13</th>\n",
       "      <td>aklavik</td>\n",
       "      <td>68.2191</td>\n",
       "      <td>-135.0107</td>\n",
       "      <td>272.15</td>\n",
       "      <td>74</td>\n",
       "      <td>75</td>\n",
       "      <td>2.57</td>\n",
       "      <td>CA</td>\n",
       "      <td>1619982988</td>\n",
       "    </tr>\n",
       "    <tr>\n",
       "      <th>14</th>\n",
       "      <td>rikitea</td>\n",
       "      <td>-23.1203</td>\n",
       "      <td>-134.9692</td>\n",
       "      <td>298.44</td>\n",
       "      <td>76</td>\n",
       "      <td>63</td>\n",
       "      <td>7.41</td>\n",
       "      <td>PF</td>\n",
       "      <td>1619982553</td>\n",
       "    </tr>\n",
       "    <tr>\n",
       "      <th>15</th>\n",
       "      <td>yellowknife</td>\n",
       "      <td>62.4560</td>\n",
       "      <td>-114.3525</td>\n",
       "      <td>270.15</td>\n",
       "      <td>43</td>\n",
       "      <td>1</td>\n",
       "      <td>2.57</td>\n",
       "      <td>CA</td>\n",
       "      <td>1619982551</td>\n",
       "    </tr>\n",
       "    <tr>\n",
       "      <th>16</th>\n",
       "      <td>hermanus</td>\n",
       "      <td>-34.4187</td>\n",
       "      <td>19.2345</td>\n",
       "      <td>288.15</td>\n",
       "      <td>73</td>\n",
       "      <td>0</td>\n",
       "      <td>4.08</td>\n",
       "      <td>ZA</td>\n",
       "      <td>1619982331</td>\n",
       "    </tr>\n",
       "    <tr>\n",
       "      <th>17</th>\n",
       "      <td>port keats</td>\n",
       "      <td>-14.2500</td>\n",
       "      <td>129.5500</td>\n",
       "      <td>296.21</td>\n",
       "      <td>50</td>\n",
       "      <td>1</td>\n",
       "      <td>3.47</td>\n",
       "      <td>AU</td>\n",
       "      <td>1619982989</td>\n",
       "    </tr>\n",
       "    <tr>\n",
       "      <th>18</th>\n",
       "      <td>dikson</td>\n",
       "      <td>73.5069</td>\n",
       "      <td>80.5464</td>\n",
       "      <td>268.12</td>\n",
       "      <td>92</td>\n",
       "      <td>100</td>\n",
       "      <td>4.31</td>\n",
       "      <td>RU</td>\n",
       "      <td>1619982989</td>\n",
       "    </tr>\n",
       "    <tr>\n",
       "      <th>19</th>\n",
       "      <td>akyab</td>\n",
       "      <td>20.1500</td>\n",
       "      <td>92.9000</td>\n",
       "      <td>300.84</td>\n",
       "      <td>72</td>\n",
       "      <td>0</td>\n",
       "      <td>2.69</td>\n",
       "      <td>MM</td>\n",
       "      <td>1619982990</td>\n",
       "    </tr>\n",
       "    <tr>\n",
       "      <th>20</th>\n",
       "      <td>tera</td>\n",
       "      <td>14.0078</td>\n",
       "      <td>0.7531</td>\n",
       "      <td>310.95</td>\n",
       "      <td>7</td>\n",
       "      <td>6</td>\n",
       "      <td>3.83</td>\n",
       "      <td>NE</td>\n",
       "      <td>1619982990</td>\n",
       "    </tr>\n",
       "    <tr>\n",
       "      <th>21</th>\n",
       "      <td>kayerkan</td>\n",
       "      <td>69.3497</td>\n",
       "      <td>87.7602</td>\n",
       "      <td>262.94</td>\n",
       "      <td>91</td>\n",
       "      <td>32</td>\n",
       "      <td>1.88</td>\n",
       "      <td>RU</td>\n",
       "      <td>1619982991</td>\n",
       "    </tr>\n",
       "    <tr>\n",
       "      <th>22</th>\n",
       "      <td>atuona</td>\n",
       "      <td>-9.8000</td>\n",
       "      <td>-139.0333</td>\n",
       "      <td>299.88</td>\n",
       "      <td>77</td>\n",
       "      <td>87</td>\n",
       "      <td>5.94</td>\n",
       "      <td>PF</td>\n",
       "      <td>1619982991</td>\n",
       "    </tr>\n",
       "    <tr>\n",
       "      <th>23</th>\n",
       "      <td>pljevlja</td>\n",
       "      <td>43.3333</td>\n",
       "      <td>19.3333</td>\n",
       "      <td>288.15</td>\n",
       "      <td>44</td>\n",
       "      <td>0</td>\n",
       "      <td>2.57</td>\n",
       "      <td>ME</td>\n",
       "      <td>1619982991</td>\n",
       "    </tr>\n",
       "    <tr>\n",
       "      <th>24</th>\n",
       "      <td>tasiilaq</td>\n",
       "      <td>65.6145</td>\n",
       "      <td>-37.6368</td>\n",
       "      <td>275.15</td>\n",
       "      <td>64</td>\n",
       "      <td>0</td>\n",
       "      <td>4.63</td>\n",
       "      <td>GL</td>\n",
       "      <td>1619982992</td>\n",
       "    </tr>\n",
       "    <tr>\n",
       "      <th>25</th>\n",
       "      <td>bredasdorp</td>\n",
       "      <td>-34.5322</td>\n",
       "      <td>20.0403</td>\n",
       "      <td>285.15</td>\n",
       "      <td>87</td>\n",
       "      <td>0</td>\n",
       "      <td>1.39</td>\n",
       "      <td>ZA</td>\n",
       "      <td>1619982992</td>\n",
       "    </tr>\n",
       "  </tbody>\n",
       "</table>\n",
       "</div>"
      ],
      "text/plain": [
       "              City      Lat      Long  Max Temp  Humidity  Cloudiness  \\\n",
       "0        namatanai  -3.6667  152.4333    299.05        81          95   \n",
       "1        mahebourg -20.4081   57.7000    297.15        94          20   \n",
       "2       winnemucca  40.9730 -117.7357    287.15        44          90   \n",
       "3    mar del plata -38.0023  -57.5575    294.26        68           0   \n",
       "4       butaritari   3.0707  172.7902    301.60        74         100   \n",
       "5        cape town -33.9258   18.4232    292.59        55           0   \n",
       "6   chippewa falls  44.9369  -91.3929    294.15        43          75   \n",
       "7        busselton -33.6500  115.3333    286.48        93          58   \n",
       "8         olafsvik  64.8945  -23.7142    276.84        55           0   \n",
       "9        saskylakh  71.9167  114.0833    270.53        87         100   \n",
       "10           vardo  70.3705   31.1107    271.15        74          20   \n",
       "11    komsomolskiy  40.4272   71.7189    293.15        56         100   \n",
       "12          quetta  30.1990   67.0097    290.74        56          96   \n",
       "13         aklavik  68.2191 -135.0107    272.15        74          75   \n",
       "14         rikitea -23.1203 -134.9692    298.44        76          63   \n",
       "15     yellowknife  62.4560 -114.3525    270.15        43           1   \n",
       "16        hermanus -34.4187   19.2345    288.15        73           0   \n",
       "17      port keats -14.2500  129.5500    296.21        50           1   \n",
       "18          dikson  73.5069   80.5464    268.12        92         100   \n",
       "19           akyab  20.1500   92.9000    300.84        72           0   \n",
       "20            tera  14.0078    0.7531    310.95         7           6   \n",
       "21        kayerkan  69.3497   87.7602    262.94        91          32   \n",
       "22          atuona  -9.8000 -139.0333    299.88        77          87   \n",
       "23        pljevlja  43.3333   19.3333    288.15        44           0   \n",
       "24        tasiilaq  65.6145  -37.6368    275.15        64           0   \n",
       "25      bredasdorp -34.5322   20.0403    285.15        87           0   \n",
       "\n",
       "    Wind Speed Country        Date  \n",
       "0         0.62      PG  1619982983  \n",
       "1         3.09      MU  1619982981  \n",
       "2         5.14      US  1619982848  \n",
       "3         4.63      AR  1619982340  \n",
       "4         6.10      KI  1619982984  \n",
       "5         5.14      ZA  1619982911  \n",
       "6         2.57      US  1619982985  \n",
       "7         6.88      AU  1619982985  \n",
       "8         5.07      IS  1619982986  \n",
       "9         3.23      RU  1619982986  \n",
       "10        2.57      NO  1619982987  \n",
       "11        3.09      UZ  1619982987  \n",
       "12        0.99      PK  1619982987  \n",
       "13        2.57      CA  1619982988  \n",
       "14        7.41      PF  1619982553  \n",
       "15        2.57      CA  1619982551  \n",
       "16        4.08      ZA  1619982331  \n",
       "17        3.47      AU  1619982989  \n",
       "18        4.31      RU  1619982989  \n",
       "19        2.69      MM  1619982990  \n",
       "20        3.83      NE  1619982990  \n",
       "21        1.88      RU  1619982991  \n",
       "22        5.94      PF  1619982991  \n",
       "23        2.57      ME  1619982991  \n",
       "24        4.63      GL  1619982992  \n",
       "25        1.39      ZA  1619982992  "
      ]
     },
     "execution_count": 31,
     "metadata": {},
     "output_type": "execute_result"
    }
   ],
   "source": [
    "weather_data = weather_data[weather_data['Humidity']<100]\n",
    "weather_data"
   ]
  },
  {
   "cell_type": "markdown",
   "metadata": {},
   "source": [
    "## Plotting the Data\n",
    "* Use proper labeling of the plots using plot titles (including date of analysis) and axes labels.\n",
    "* Save the plotted figures as .pngs."
   ]
  },
  {
   "cell_type": "markdown",
   "metadata": {},
   "source": [
    "## Latitude vs. Temperature Plot"
   ]
  },
  {
   "cell_type": "code",
   "execution_count": 32,
   "metadata": {
    "scrolled": true
   },
   "outputs": [
    {
     "data": {
      "text/plain": [
       "<AxesSubplot:xlabel='Lat', ylabel='Max Temp'>"
      ]
     },
     "execution_count": 32,
     "metadata": {},
     "output_type": "execute_result"
    },
    {
     "data": {
      "image/png": "[encoded data removed]",
      "text/plain": [
       "<Figure size 432x288 with 1 Axes>"
      ]
     },
     "metadata": {
      "needs_background": "light"
     },
     "output_type": "display_data"
    }
   ],
   "source": [
    "weather_data.plot(x='Lat', y='Max Temp', kind='scatter')"
   ]
  },
  {
   "cell_type": "markdown",
   "metadata": {},
   "source": [
    "## Latitude vs. Humidity Plot"
   ]
  },
  {
   "cell_type": "code",
   "execution_count": 33,
   "metadata": {},
   "outputs": [
    {
     "data": {
      "text/plain": [
       "<AxesSubplot:xlabel='Lat', ylabel='Humidity'>"
      ]
     },
     "execution_count": 33,
     "metadata": {},
     "output_type": "execute_result"
    },
    {
     "data": {
      "image/png": "[encoded data removed]",
      "text/plain": [
       "<Figure size 432x288 with 1 Axes>"
      ]
     },
     "metadata": {
      "needs_background": "light"
     },
     "output_type": "display_data"
    }
   ],
   "source": [
    "weather_data.plot(x='Lat', y='Humidity', kind='scatter')"
   ]
  },
  {
   "cell_type": "markdown",
   "metadata": {},
   "source": [
    "## Latitude vs. Cloudiness Plot"
   ]
  },
  {
   "cell_type": "code",
   "execution_count": 34,
   "metadata": {},
   "outputs": [
    {
     "data": {
      "text/plain": [
       "<AxesSubplot:xlabel='Lat', ylabel='Cloudiness'>"
      ]
     },
     "execution_count": 34,
     "metadata": {},
     "output_type": "execute_result"
    },
    {
     "data": {
      "image/png": "[encoded data removed]",
      "text/plain": [
       "<Figure size 432x288 with 1 Axes>"
      ]
     },
     "metadata": {
      "needs_background": "light"
     },
     "output_type": "display_data"
    }
   ],
   "source": [
    "weather_data.plot(x='Lat', y='Cloudiness', kind='scatter')"
   ]
  },
  {
   "cell_type": "markdown",
   "metadata": {},
   "source": [
    "## Latitude vs. Wind Speed Plot"
   ]
  },
  {
   "cell_type": "code",
   "execution_count": 35,
   "metadata": {},
   "outputs": [
    {
     "data": {
      "text/plain": [
       "<AxesSubplot:xlabel='Lat', ylabel='Wind Speed'>"
      ]
     },
     "execution_count": 35,
     "metadata": {},
     "output_type": "execute_result"
    },
    {
     "data": {
      "image/png": "[encoded data removed]",
      "text/plain": [
       "<Figure size 432x288 with 1 Axes>"
      ]
     },
     "metadata": {
      "needs_background": "light"
     },
     "output_type": "display_data"
    }
   ],
   "source": [
    "weather_data.plot(x='Lat', y='Wind Speed', kind='scatter')"
   ]
  },
  {
   "cell_type": "markdown",
   "metadata": {},
   "source": [
    "## Linear Regression"
   ]
  },
  {
   "cell_type": "markdown",
   "metadata": {},
   "source": [
    "####  Northern Hemisphere - Max Temp vs. Latitude Linear Regression"
   ]
  },
  {
   "cell_type": "code",
   "execution_count": 36,
   "metadata": {},
   "outputs": [
    {
     "name": "stdout",
     "output_type": "stream",
     "text": [
      "              City      Lat      Long  Max Temp  Humidity  Cloudiness  \\\n",
      "2       winnemucca  40.9730 -117.7357    287.15        44          90   \n",
      "4       butaritari   3.0707  172.7902    301.60        74         100   \n",
      "6   chippewa falls  44.9369  -91.3929    294.15        43          75   \n",
      "8         olafsvik  64.8945  -23.7142    276.84        55           0   \n",
      "9        saskylakh  71.9167  114.0833    270.53        87         100   \n",
      "10           vardo  70.3705   31.1107    271.15        74          20   \n",
      "11    komsomolskiy  40.4272   71.7189    293.15        56         100   \n",
      "12          quetta  30.1990   67.0097    290.74        56          96   \n",
      "13         aklavik  68.2191 -135.0107    272.15        74          75   \n",
      "15     yellowknife  62.4560 -114.3525    270.15        43           1   \n",
      "18          dikson  73.5069   80.5464    268.12        92         100   \n",
      "19           akyab  20.1500   92.9000    300.84        72           0   \n",
      "20            tera  14.0078    0.7531    310.95         7           6   \n",
      "21        kayerkan  69.3497   87.7602    262.94        91          32   \n",
      "23        pljevlja  43.3333   19.3333    288.15        44           0   \n",
      "24        tasiilaq  65.6145  -37.6368    275.15        64           0   \n",
      "\n",
      "    Wind Speed Country        Date  \n",
      "2         5.14      US  1619982848  \n",
      "4         6.10      KI  1619982984  \n",
      "6         2.57      US  1619982985  \n",
      "8         5.07      IS  1619982986  \n",
      "9         3.23      RU  1619982986  \n",
      "10        2.57      NO  1619982987  \n",
      "11        3.09      UZ  1619982987  \n",
      "12        0.99      PK  1619982987  \n",
      "13        2.57      CA  1619982988  \n",
      "15        2.57      CA  1619982551  \n",
      "18        4.31      RU  1619982989  \n",
      "19        2.69      MM  1619982990  \n",
      "20        3.83      NE  1619982990  \n",
      "21        1.88      RU  1619982991  \n",
      "23        2.57      ME  1619982991  \n",
      "24        4.63      GL  1619982992  \n",
      "2     412.074040\n",
      "4     468.853907\n",
      "6     406.135886\n",
      "8     376.238232\n",
      "9     365.718565\n",
      "10    368.034863\n",
      "11    412.891681\n",
      "12    428.214124\n",
      "13    371.257786\n",
      "15    379.891248\n",
      "18    363.336352\n",
      "19    443.268115\n",
      "20    452.469490\n",
      "21    369.564081\n",
      "23    408.538173\n",
      "24    375.159630\n",
      "Name: Lat, dtype: float64\n",
      "y = -1.5x +473.45\n"
     ]
    }
   ],
   "source": [
    "nhW = weather_data[(weather_data['Lat']>0)]\n",
    "print(nhW)\n",
    "(slope, intercept, rvalue, pvalue, stderr) = stats.linregress(nhW['Max Temp'], nhW['Lat'])\n",
    "regress_values = nhW['Lat'] * slope + intercept\n",
    "print(regress_values)\n",
    "line_eq = 'y = ' + str(round(slope, 2)) + 'x +' + str(round(intercept, 2))\n",
    "print(line_eq)"
   ]
  },
  {
   "cell_type": "code",
   "execution_count": 37,
   "metadata": {},
   "outputs": [
    {
     "name": "stdout",
     "output_type": "stream",
     "text": [
      "0.8872093305639808\n"
     ]
    },
    {
     "data": {
      "image/png": "[encoded data removed]",
      "text/plain": [
       "<Figure size 432x288 with 1 Axes>"
      ]
     },
     "metadata": {
      "needs_background": "light"
     },
     "output_type": "display_data"
    }
   ],
   "source": [
    "x_values = nhW['Lat']\n",
    "y_values = nhW['Max Temp']\n",
    "plt.scatter(x_values, y_values)\n",
    "plt.plot(x_values, regress_values, \"r-\")\n",
    "plt.xlabel('Lat')\n",
    "plt.ylabel('Max Temp')\n",
    "plt.annotate(line_eq, (20,400))\n",
    "print(rvalue **2)"
   ]
  },
  {
   "cell_type": "markdown",
   "metadata": {},
   "source": [
    "####  Southern Hemisphere - Max Temp vs. Latitude Linear Regression"
   ]
  },
  {
   "cell_type": "code",
   "execution_count": 38,
   "metadata": {},
   "outputs": [
    {
     "name": "stdout",
     "output_type": "stream",
     "text": [
      "             City      Lat      Long  Max Temp  Humidity  Cloudiness  \\\n",
      "0       namatanai  -3.6667  152.4333    299.05        81          95   \n",
      "1       mahebourg -20.4081   57.7000    297.15        94          20   \n",
      "3   mar del plata -38.0023  -57.5575    294.26        68           0   \n",
      "5       cape town -33.9258   18.4232    292.59        55           0   \n",
      "7       busselton -33.6500  115.3333    286.48        93          58   \n",
      "14        rikitea -23.1203 -134.9692    298.44        76          63   \n",
      "16       hermanus -34.4187   19.2345    288.15        73           0   \n",
      "17     port keats -14.2500  129.5500    296.21        50           1   \n",
      "22         atuona  -9.8000 -139.0333    299.88        77          87   \n",
      "25     bredasdorp -34.5322   20.0403    285.15        87           0   \n",
      "\n",
      "    Wind Speed Country        Date  \n",
      "0         0.62      PG  1619982983  \n",
      "1         3.09      MU  1619982981  \n",
      "3         4.63      AR  1619982340  \n",
      "5         5.14      ZA  1619982911  \n",
      "7         6.88      AU  1619982985  \n",
      "14        7.41      PF  1619982553  \n",
      "16        4.08      ZA  1619982331  \n",
      "17        3.47      AU  1619982989  \n",
      "22        5.94      PF  1619982991  \n",
      "25        1.39      ZA  1619982992  \n",
      "0    -539.046105\n",
      "1    -568.006590\n",
      "3    -598.442309\n",
      "5    -591.390485\n",
      "7    -590.913386\n",
      "14   -572.698349\n",
      "16   -592.243139\n",
      "17   -557.353863\n",
      "22   -549.655931\n",
      "25   -592.439479\n",
      "Name: Lat, dtype: float64\n",
      "y = 1.73x +-532.7\n",
      "0.5974025768310252\n"
     ]
    },
    {
     "data": {
      "image/png": "[encoded data removed]",
      "text/plain": [
       "<Figure size 432x288 with 1 Axes>"
      ]
     },
     "metadata": {
      "needs_background": "light"
     },
     "output_type": "display_data"
    }
   ],
   "source": [
    "shW = weather_data[(weather_data['Lat']<0)]\n",
    "print(shW)\n",
    "(slope, intercept, rvalue, pvalue, stderr) = stats.linregress(shW['Max Temp'], shW['Lat'])\n",
    "regress_values = shW['Lat'] * slope + intercept\n",
    "print(regress_values)\n",
    "line_eq = 'y = ' + str(round(slope, 2)) + 'x +' + str(round(intercept, 2))\n",
    "print(line_eq)\n",
    "x_values = shW['Lat']\n",
    "y_values = shW['Max Temp']\n",
    "plt.scatter(x_values, y_values)\n",
    "plt.plot(x_values, regress_values, \"r-\")\n",
    "plt.xlabel('Lat')\n",
    "plt.ylabel('Max Temp')\n",
    "plt.annotate(line_eq, (-30,-400))\n",
    "print(rvalue **2)"
   ]
  },
  {
   "cell_type": "markdown",
   "metadata": {},
   "source": [
    "####  Northern Hemisphere - Humidity (%) vs. Latitude Linear Regression"
   ]
  },
  {
   "cell_type": "code",
   "execution_count": 39,
   "metadata": {},
   "outputs": [
    {
     "name": "stdout",
     "output_type": "stream",
     "text": [
      "0.22799130961884537\n"
     ]
    },
    {
     "data": {
      "image/png": "[encoded data removed]",
      "text/plain": [
       "<Figure size 432x288 with 1 Axes>"
      ]
     },
     "metadata": {
      "needs_background": "light"
     },
     "output_type": "display_data"
    }
   ],
   "source": [
    "nhW = weather_data[(weather_data['Lat']>0)]\n",
    "(slope, intercept, rvalue, pvalue, stderr) = stats.linregress(nhW['Humidity'], nhW['Lat'])\n",
    "regress_values = nhW['Lat'] * slope + intercept\n",
    "line_eq = 'y = ' + str(round(slope, 2)) + 'x +' + str(round(intercept, 2))\n",
    "x_values = nhW['Lat']\n",
    "y_values = nhW['Humidity']\n",
    "plt.scatter(x_values, y_values)\n",
    "plt.plot(x_values, regress_values, \"r-\")\n",
    "plt.xlabel('Lat')\n",
    "plt.ylabel('Humidity')\n",
    "plt.annotate(line_eq, (20,400))\n",
    "print(rvalue **2)"
   ]
  },
  {
   "cell_type": "markdown",
   "metadata": {},
   "source": [
    "####  Southern Hemisphere - Humidity (%) vs. Latitude Linear Regression"
   ]
  },
  {
   "cell_type": "code",
   "execution_count": 56,
   "metadata": {},
   "outputs": [
    {
     "name": "stdout",
     "output_type": "stream",
     "text": [
      "0.01064813855016369\n"
     ]
    },
    {
     "data": {
      "image/png": "[encoded data removed]",
      "text/plain": [
       "<Figure size 432x288 with 1 Axes>"
      ]
     },
     "metadata": {
      "needs_background": "light"
     },
     "output_type": "display_data"
    }
   ],
   "source": [
    "shW = weather_data[(weather_data['Lat']<0)]\n",
    "(slope, intercept, rvalue, pvalue, stderr) = stats.linregress(shW['Humidity'], shW['Lat'])\n",
    "regress_values = shW['Lat'] * slope + intercept\n",
    "line_eq = 'y = ' + str(round(slope, 2)) + 'x +' + str(round(intercept, 2))\n",
    "x_values = shW['Lat']\n",
    "y_values = shW['Humidity']\n",
    "plt.scatter(x_values, y_values)\n",
    "plt.plot(x_values, regress_values, \"r-\")\n",
    "plt.xlabel('Lat')\n",
    "plt.ylabel('Humidity')\n",
    "plt.annotate(line_eq, (20,400))\n",
    "print(rvalue **2)"
   ]
  },
  {
   "cell_type": "markdown",
   "metadata": {},
   "source": [
    "####  Northern Hemisphere - Cloudiness (%) vs. Latitude Linear Regression"
   ]
  },
  {
   "cell_type": "code",
   "execution_count": 57,
   "metadata": {},
   "outputs": [
    {
     "name": "stdout",
     "output_type": "stream",
     "text": [
      "0.03953739371204862\n"
     ]
    },
    {
     "data": {
      "image/png": "[encoded data removed]",
      "text/plain": [
       "<Figure size 432x288 with 1 Axes>"
      ]
     },
     "metadata": {
      "needs_background": "light"
     },
     "output_type": "display_data"
    }
   ],
   "source": [
    "nhW = weather_data[(weather_data['Lat']>0)]\n",
    "(slope, intercept, rvalue, pvalue, stderr) = stats.linregress(nhW['Cloudiness'], nhW['Lat'])\n",
    "regress_values = nhW['Lat'] * slope + intercept\n",
    "line_eq = 'y = ' + str(round(slope, 2)) + 'x +' + str(round(intercept, 2))\n",
    "x_values = nhW['Lat']\n",
    "y_values = nhW['Cloudiness']\n",
    "plt.scatter(x_values, y_values)\n",
    "plt.plot(x_values, regress_values, \"r-\")\n",
    "plt.xlabel('Lat')\n",
    "plt.ylabel('Cloudiness')\n",
    "plt.annotate(line_eq, (20,400))\n",
    "print(rvalue **2)"
   ]
  },
  {
   "cell_type": "markdown",
   "metadata": {},
   "source": [
    "####  Southern Hemisphere - Cloudiness (%) vs. Latitude Linear Regression"
   ]
  },
  {
   "cell_type": "code",
   "execution_count": 58,
   "metadata": {},
   "outputs": [
    {
     "name": "stdout",
     "output_type": "stream",
     "text": [
      "0.3321935037770656\n"
     ]
    },
    {
     "data": {
      "image/png": "[encoded data removed]",
      "text/plain": [
       "<Figure size 432x288 with 1 Axes>"
      ]
     },
     "metadata": {
      "needs_background": "light"
     },
     "output_type": "display_data"
    }
   ],
   "source": [
    "shW = weather_data[(weather_data['Lat']<0)]\n",
    "(slope, intercept, rvalue, pvalue, stderr) = stats.linregress(shW['Cloudiness'], shW['Lat'])\n",
    "regress_values = shW['Lat'] * slope + intercept\n",
    "line_eq = 'y = ' + str(round(slope, 2)) + 'x +' + str(round(intercept, 2))\n",
    "x_values = shW['Lat']\n",
    "y_values = shW['Cloudiness']\n",
    "plt.scatter(x_values, y_values)\n",
    "plt.plot(x_values, regress_values, \"r-\")\n",
    "plt.xlabel('Lat')\n",
    "plt.ylabel('Cloudiness')\n",
    "plt.annotate(line_eq, (20,400))\n",
    "print(rvalue **2)"
   ]
  },
  {
   "cell_type": "markdown",
   "metadata": {},
   "source": [
    "####  Northern Hemisphere - Wind Speed (mph) vs. Latitude Linear Regression"
   ]
  },
  {
   "cell_type": "code",
   "execution_count": 59,
   "metadata": {},
   "outputs": [
    {
     "name": "stdout",
     "output_type": "stream",
     "text": [
      "0.06943015161241362\n"
     ]
    },
    {
     "data": {
      "image/png": "[encoded data removed]",
      "text/plain": [
       "<Figure size 432x288 with 1 Axes>"
      ]
     },
     "metadata": {
      "needs_background": "light"
     },
     "output_type": "display_data"
    }
   ],
   "source": [
    "nhW = weather_data[(weather_data['Lat']>0)]\n",
    "(slope, intercept, rvalue, pvalue, stderr) = stats.linregress(nhW['Wind Speed'], nhW['Lat'])\n",
    "regress_values = nhW['Lat'] * slope + intercept\n",
    "line_eq = 'y = ' + str(round(slope, 2)) + 'x +' + str(round(intercept, 2))\n",
    "x_values = nhW['Lat']\n",
    "y_values = nhW['Wind Speed']\n",
    "plt.scatter(x_values, y_values)\n",
    "plt.plot(x_values, regress_values, \"r-\")\n",
    "plt.xlabel('Lat')\n",
    "plt.ylabel('Cloudiness')\n",
    "plt.annotate(line_eq, (20,400))\n",
    "print(rvalue **2)"
   ]
  },
  {
   "cell_type": "markdown",
   "metadata": {},
   "source": [
    "####  Southern Hemisphere - Wind Speed (mph) vs. Latitude Linear Regression"
   ]
  },
  {
   "cell_type": "code",
   "execution_count": 60,
   "metadata": {},
   "outputs": [
    {
     "name": "stdout",
     "output_type": "stream",
     "text": [
      "0.753244161405427\n"
     ]
    },
    {
     "data": {
      "image/png": "[encoded data removed]",
      "text/plain": [
       "<Figure size 432x288 with 1 Axes>"
      ]
     },
     "metadata": {
      "needs_background": "light"
     },
     "output_type": "display_data"
    }
   ],
   "source": [
    "shW = weather_data[(weather_data['Lat']<0)]\n",
    "(slope, intercept, rvalue, pvalue, stderr) = stats.linregress(shW['Wind Speed'], shW['Lat'])\n",
    "regress_values = shW['Lat'] * slope + intercept\n",
    "line_eq = 'y = ' + str(round(slope, 2)) + 'x +' + str(round(intercept, 2))\n",
    "x_values = shW['Lat']\n",
    "y_values = shW['Wind Speed']\n",
    "plt.scatter(x_values, y_values)\n",
    "plt.plot(x_values, regress_values, \"r-\")\n",
    "plt.xlabel('Lat')\n",
    "plt.ylabel('Cloudiness')\n",
    "plt.annotate(line_eq, (20,400))\n",
    "print(rvalue **2)"
   ]
  },
  {
   "cell_type": "code",
   "execution_count": null,
   "metadata": {},
   "outputs": [],
   "source": []
  }
 ],
 "metadata": {
  "anaconda-cloud": {},
  "kernel_info": {
   "name": "python3"
  },
  "kernelspec": {
   "display_name": "Python 3",
   "language": "python",
   "name": "python3"
  },
  "language_info": {
   "codemirror_mode": {
    "name": "ipython",
    "version": 3
   },
   "file_extension": ".py",
   "mimetype": "text/x-python",
   "name": "python",
   "nbconvert_exporter": "python",
   "pygments_lexer": "ipython3",
   "version": "3.7.6"
  },
  "latex_envs": {
   "LaTeX_envs_menu_present": true,
   "autoclose": false,
   "autocomplete": true,
   "bibliofile": "biblio.bib",
   "cite_by": "apalike",
   "current_citInitial": 1,
   "eqLabelWithNumbers": true,
   "eqNumInitial": 1,
   "hotkeys": {
    "equation": "Ctrl-E",
    "itemize": "Ctrl-I"
   },
   "labels_anchors": false,
   "latex_user_defs": false,
   "report_style_numbering": false,
   "user_envs_cfg": false
  },
  "nteract": {
   "version": "0.12.3"
  }
 },
 "nbformat": 4,
 "nbformat_minor": 2
}
