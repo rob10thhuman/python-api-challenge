{
 "cells": [
  {
   "cell_type": "markdown",
   "metadata": {},
   "source": [
    "# WeatherPy\n",
    "----\n",
    "\n",
    "#### Note\n",
    "* Instructions have been included for each segment. You do not have to follow them exactly, but they are included to help you think through the steps."
   ]
  },
  {
   "cell_type": "code",
   "execution_count": 2,
   "metadata": {
    "scrolled": true
   },
   "outputs": [],
   "source": [
    "# Dependencies and Setup\n",
    "import matplotlib.pyplot as plt\n",
    "import pandas as pd\n",
    "import numpy as np\n",
    "import requests\n",
    "import time\n",
    "from scipy import stats\n",
    "from scipy.stats import linregress\n",
    "\n",
    "# Import API key\n",
    "from api_keys import weather_api_key\n",
    "\n",
    "# Incorporated citipy to determine city based on latitude and longitude\n",
    "from citipy import citipy\n",
    "\n",
    "# Output File (CSV)\n",
    "output_data_file = \"output_data/cities.csv\"\n",
    "\n",
    "# Range of latitudes and longitudes\n",
    "lat_range = (-90, 90)\n",
    "lng_range = (-180, 180)"
   ]
  },
  {
   "cell_type": "markdown",
   "metadata": {},
   "source": [
    "## Generate Cities List"
   ]
  },
  {
   "cell_type": "code",
   "execution_count": 25,
   "metadata": {},
   "outputs": [
    {
     "data": {
      "text/plain": [
       "19"
      ]
     },
     "execution_count": 25,
     "metadata": {},
     "output_type": "execute_result"
    }
   ],
   "source": [
    "# List for holding lat_lngs and cities\n",
    "lat_lngs = []\n",
    "cities = []\n",
    "\n",
    "# Create a set of random lat and lng combinations\n",
    "lats = np.random.uniform(lat_range[0], lat_range[1], size=20)\n",
    "lngs = np.random.uniform(lng_range[0], lng_range[1], size=20)\n",
    "lat_lngs = zip(lats, lngs)\n",
    "\n",
    "# Identify nearest city for each lat, lng combination\n",
    "for lat_lng in lat_lngs:\n",
    "    city = citipy.nearest_city(lat_lng[0], lat_lng[1]).city_name\n",
    "    \n",
    "    # If the city is unique, then add it to a our cities list\n",
    "    if city not in cities:\n",
    "        cities.append(city)\n",
    "\n",
    "# Print the city count to confirm sufficient count\n",
    "len(cities)"
   ]
  },
  {
   "cell_type": "markdown",
   "metadata": {},
   "source": [
    "### Perform API Calls\n",
    "* Perform a weather check on each city using a series of successive API calls.\n",
    "* Include a print log of each city as it'sbeing processed (with the city number and city name).\n"
   ]
  },
  {
   "cell_type": "code",
   "execution_count": 26,
   "metadata": {},
   "outputs": [],
   "source": [
    "## To save the demand and for troubleshooting, I am only calling 20 cities right now"
   ]
  },
  {
   "cell_type": "code",
   "execution_count": 27,
   "metadata": {},
   "outputs": [
    {
     "data": {
      "text/plain": [
       "['bredasdorp',\n",
       " 'general roca',\n",
       " 'punta arenas',\n",
       " 'georgetown',\n",
       " 'avarua',\n",
       " 'rikitea',\n",
       " 'bluff',\n",
       " 'cape town',\n",
       " 'tuatapere',\n",
       " 'boda',\n",
       " 'jalingo',\n",
       " 'vila velha',\n",
       " 'dawson creek',\n",
       " 'ossora',\n",
       " 'barsovo',\n",
       " 'lampa',\n",
       " 'singapore',\n",
       " 'saint-philippe',\n",
       " 'kapaa']"
      ]
     },
     "execution_count": 27,
     "metadata": {},
     "output_type": "execute_result"
    }
   ],
   "source": [
    "cities"
   ]
  },
  {
   "cell_type": "code",
   "execution_count": 28,
   "metadata": {
    "scrolled": true
   },
   "outputs": [],
   "source": [
    "url = 'http://api.openweathermap.org/data/2.5/weather?'\n",
    "query_url = url + 'appid=' + weather_api_key + '&q='"
   ]
  },
  {
   "cell_type": "code",
   "execution_count": 29,
   "metadata": {},
   "outputs": [
    {
     "name": "stdout",
     "output_type": "stream",
     "text": [
      "{'coord': {'lon': -97.8558, 'lat': 55.7435}, 'weather': [{'id': 600, 'main': 'Snow', 'description': 'light snow', 'icon': '13n'}], 'base': 'stations', 'main': {'temp': 269.15, 'feels_like': 263.14, 'temp_min': 269.15, 'temp_max': 269.15, 'pressure': 1025, 'humidity': 58}, 'visibility': 10000, 'wind': {'speed': 5.14, 'deg': 350, 'gust': 8.75}, 'clouds': {'all': 90}, 'dt': 1618886148, 'sys': {'type': 1, 'id': 935, 'country': 'CA', 'sunrise': 1618830926, 'sunset': 1618883104}, 'timezone': -18000, 'id': 6165406, 'name': 'Thompson', 'cod': 200}\n"
     ]
    }
   ],
   "source": [
    "response = requests.get(query_url + 'thompson').json()\n",
    "print(response)"
   ]
  },
  {
   "cell_type": "code",
   "execution_count": 30,
   "metadata": {},
   "outputs": [
    {
     "name": "stdout",
     "output_type": "stream",
     "text": [
      "bredasdorp\n",
      "[-34.5322]\n",
      "general roca\n",
      "[-34.5322, -39.0333]\n",
      "punta arenas\n",
      "[-34.5322, -39.0333, -53.15]\n",
      "georgetown\n",
      "[-34.5322, -39.0333, -53.15, 5.4112]\n",
      "avarua\n",
      "[-34.5322, -39.0333, -53.15, 5.4112, -21.2078]\n",
      "rikitea\n",
      "[-34.5322, -39.0333, -53.15, 5.4112, -21.2078, -23.1203]\n",
      "bluff\n",
      "[-34.5322, -39.0333, -53.15, 5.4112, -21.2078, -23.1203, -46.6]\n",
      "cape town\n",
      "[-34.5322, -39.0333, -53.15, 5.4112, -21.2078, -23.1203, -46.6, -33.9258]\n",
      "tuatapere\n",
      "[-34.5322, -39.0333, -53.15, 5.4112, -21.2078, -23.1203, -46.6, -33.9258, -46.1333]\n",
      "boda\n",
      "[-34.5322, -39.0333, -53.15, 5.4112, -21.2078, -23.1203, -46.6, -33.9258, -46.1333, 4.3189]\n",
      "jalingo\n",
      "[-34.5322, -39.0333, -53.15, 5.4112, -21.2078, -23.1203, -46.6, -33.9258, -46.1333, 4.3189, 8.8833]\n",
      "vila velha\n",
      "[-34.5322, -39.0333, -53.15, 5.4112, -21.2078, -23.1203, -46.6, -33.9258, -46.1333, 4.3189, 8.8833, -20.3297]\n",
      "dawson creek\n",
      "[-34.5322, -39.0333, -53.15, 5.4112, -21.2078, -23.1203, -46.6, -33.9258, -46.1333, 4.3189, 8.8833, -20.3297, 55.7666]\n",
      "ossora\n",
      "[-34.5322, -39.0333, -53.15, 5.4112, -21.2078, -23.1203, -46.6, -33.9258, -46.1333, 4.3189, 8.8833, -20.3297, 55.7666, 59.2353]\n",
      "barsovo\n",
      "[-34.5322, -39.0333, -53.15, 5.4112, -21.2078, -23.1203, -46.6, -33.9258, -46.1333, 4.3189, 8.8833, -20.3297, 55.7666, 59.2353, 61.1667]\n",
      "lampa\n",
      "[-34.5322, -39.0333, -53.15, 5.4112, -21.2078, -23.1203, -46.6, -33.9258, -46.1333, 4.3189, 8.8833, -20.3297, 55.7666, 59.2353, 61.1667, -33.2833]\n",
      "singapore\n",
      "[-34.5322, -39.0333, -53.15, 5.4112, -21.2078, -23.1203, -46.6, -33.9258, -46.1333, 4.3189, 8.8833, -20.3297, 55.7666, 59.2353, 61.1667, -33.2833, 1.2897]\n",
      "saint-philippe\n",
      "[-34.5322, -39.0333, -53.15, 5.4112, -21.2078, -23.1203, -46.6, -33.9258, -46.1333, 4.3189, 8.8833, -20.3297, 55.7666, 59.2353, 61.1667, -33.2833, 1.2897, -21.3585]\n",
      "kapaa\n",
      "[-34.5322, -39.0333, -53.15, 5.4112, -21.2078, -23.1203, -46.6, -33.9258, -46.1333, 4.3189, 8.8833, -20.3297, 55.7666, 59.2353, 61.1667, -33.2833, 1.2897, -21.3585, 22.0752]\n"
     ]
    }
   ],
   "source": [
    "cities2 = ['Las Vegas', 'Divide', 'Colorado Springs']\n",
    "lat = []\n",
    "lon = []\n",
    "maxtemp = []\n",
    "humidity = []\n",
    "clouds = []\n",
    "wind = []\n",
    "country = []\n",
    "dt = []\n",
    "for city in cities:\n",
    "    response = requests.get(query_url + city).json()\n",
    "    if response['cod']!=200:\n",
    "        cities.remove(city)\n",
    "        print('Error ' + city)\n",
    "    else:\n",
    "        print(city)\n",
    "        lat.append(response['coord']['lat'])\n",
    "        print(lat)\n",
    "        lon.append(response['coord']['lon'])\n",
    "        maxtemp.append(response['main']['temp_max'])\n",
    "        humidity.append(response['main']['humidity'])\n",
    "        clouds.append(response['clouds']['all'])\n",
    "        wind.append(response['wind']['speed'])\n",
    "        country.append(response['sys']['country'])\n",
    "        dt.append(response['dt'])\n",
    "    "
   ]
  },
  {
   "cell_type": "code",
   "execution_count": 31,
   "metadata": {},
   "outputs": [
    {
     "name": "stdout",
     "output_type": "stream",
     "text": [
      "19 19\n"
     ]
    }
   ],
   "source": [
    "print(str(len(cities)) + \" \" + str(len(lon)))"
   ]
  },
  {
   "cell_type": "code",
   "execution_count": 32,
   "metadata": {},
   "outputs": [
    {
     "name": "stdout",
     "output_type": "stream",
     "text": [
      "['bredasdorp', 'general roca', 'punta arenas', 'georgetown', 'avarua', 'rikitea', 'bluff', 'cape town', 'tuatapere', 'boda', 'jalingo', 'vila velha', 'dawson creek', 'ossora', 'barsovo', 'lampa', 'singapore', 'saint-philippe', 'kapaa']\n"
     ]
    }
   ],
   "source": [
    "print(cities)"
   ]
  },
  {
   "cell_type": "code",
   "execution_count": 33,
   "metadata": {},
   "outputs": [],
   "source": [
    "weather_dict = {\n",
    "    \"City\": cities,\n",
    "    \"Lat\": lat,\n",
    "    \"Long\": lon,\n",
    "    \"Max Temp\": maxtemp,\n",
    "    \"Humidity\": humidity,\n",
    "    \"Cloudiness\": clouds,\n",
    "    \"Wind Speed\": wind,\n",
    "    \"Country\": country,\n",
    "    \"Date\": dt\n",
    "}\n",
    "weather_data = pd.DataFrame(weather_dict)"
   ]
  },
  {
   "cell_type": "markdown",
   "metadata": {},
   "source": [
    "### Convert Raw Data to DataFrame\n",
    "* Export the city data into a .csv.\n",
    "* Display the DataFrame"
   ]
  },
  {
   "cell_type": "code",
   "execution_count": 34,
   "metadata": {},
   "outputs": [
    {
     "data": {
      "text/html": [
       "<div>\n",
       "<style scoped>\n",
       "    .dataframe tbody tr th:only-of-type {\n",
       "        vertical-align: middle;\n",
       "    }\n",
       "\n",
       "    .dataframe tbody tr th {\n",
       "        vertical-align: top;\n",
       "    }\n",
       "\n",
       "    .dataframe thead th {\n",
       "        text-align: right;\n",
       "    }\n",
       "</style>\n",
       "<table border=\"1\" class=\"dataframe\">\n",
       "  <thead>\n",
       "    <tr style=\"text-align: right;\">\n",
       "      <th></th>\n",
       "      <th>City</th>\n",
       "      <th>Lat</th>\n",
       "      <th>Long</th>\n",
       "      <th>Max Temp</th>\n",
       "      <th>Humidity</th>\n",
       "      <th>Cloudiness</th>\n",
       "      <th>Wind Speed</th>\n",
       "      <th>Country</th>\n",
       "      <th>Date</th>\n",
       "    </tr>\n",
       "  </thead>\n",
       "  <tbody>\n",
       "    <tr>\n",
       "      <th>0</th>\n",
       "      <td>bredasdorp</td>\n",
       "      <td>-34.5322</td>\n",
       "      <td>20.0403</td>\n",
       "      <td>287.15</td>\n",
       "      <td>82</td>\n",
       "      <td>33</td>\n",
       "      <td>5.66</td>\n",
       "      <td>ZA</td>\n",
       "      <td>1618886183</td>\n",
       "    </tr>\n",
       "    <tr>\n",
       "      <th>1</th>\n",
       "      <td>general roca</td>\n",
       "      <td>-39.0333</td>\n",
       "      <td>-67.5833</td>\n",
       "      <td>297.15</td>\n",
       "      <td>59</td>\n",
       "      <td>100</td>\n",
       "      <td>7.23</td>\n",
       "      <td>AR</td>\n",
       "      <td>1618886070</td>\n",
       "    </tr>\n",
       "    <tr>\n",
       "      <th>2</th>\n",
       "      <td>punta arenas</td>\n",
       "      <td>-53.1500</td>\n",
       "      <td>-70.9167</td>\n",
       "      <td>280.15</td>\n",
       "      <td>70</td>\n",
       "      <td>20</td>\n",
       "      <td>7.20</td>\n",
       "      <td>CL</td>\n",
       "      <td>1618885926</td>\n",
       "    </tr>\n",
       "    <tr>\n",
       "      <th>3</th>\n",
       "      <td>georgetown</td>\n",
       "      <td>5.4112</td>\n",
       "      <td>100.3354</td>\n",
       "      <td>303.15</td>\n",
       "      <td>79</td>\n",
       "      <td>20</td>\n",
       "      <td>0.51</td>\n",
       "      <td>MY</td>\n",
       "      <td>1618886139</td>\n",
       "    </tr>\n",
       "    <tr>\n",
       "      <th>4</th>\n",
       "      <td>avarua</td>\n",
       "      <td>-21.2078</td>\n",
       "      <td>-159.7750</td>\n",
       "      <td>300.15</td>\n",
       "      <td>69</td>\n",
       "      <td>75</td>\n",
       "      <td>4.12</td>\n",
       "      <td>CK</td>\n",
       "      <td>1618886338</td>\n",
       "    </tr>\n",
       "    <tr>\n",
       "      <th>5</th>\n",
       "      <td>rikitea</td>\n",
       "      <td>-23.1203</td>\n",
       "      <td>-134.9692</td>\n",
       "      <td>298.85</td>\n",
       "      <td>71</td>\n",
       "      <td>4</td>\n",
       "      <td>3.64</td>\n",
       "      <td>PF</td>\n",
       "      <td>1618886339</td>\n",
       "    </tr>\n",
       "    <tr>\n",
       "      <th>6</th>\n",
       "      <td>bluff</td>\n",
       "      <td>-46.6000</td>\n",
       "      <td>168.3333</td>\n",
       "      <td>293.15</td>\n",
       "      <td>52</td>\n",
       "      <td>1</td>\n",
       "      <td>2.68</td>\n",
       "      <td>NZ</td>\n",
       "      <td>1618886340</td>\n",
       "    </tr>\n",
       "    <tr>\n",
       "      <th>7</th>\n",
       "      <td>cape town</td>\n",
       "      <td>-33.9258</td>\n",
       "      <td>18.4232</td>\n",
       "      <td>289.26</td>\n",
       "      <td>77</td>\n",
       "      <td>0</td>\n",
       "      <td>3.60</td>\n",
       "      <td>ZA</td>\n",
       "      <td>1618886226</td>\n",
       "    </tr>\n",
       "    <tr>\n",
       "      <th>8</th>\n",
       "      <td>tuatapere</td>\n",
       "      <td>-46.1333</td>\n",
       "      <td>167.6833</td>\n",
       "      <td>293.15</td>\n",
       "      <td>52</td>\n",
       "      <td>18</td>\n",
       "      <td>2.68</td>\n",
       "      <td>NZ</td>\n",
       "      <td>1618886341</td>\n",
       "    </tr>\n",
       "    <tr>\n",
       "      <th>9</th>\n",
       "      <td>boda</td>\n",
       "      <td>4.3189</td>\n",
       "      <td>17.4695</td>\n",
       "      <td>294.25</td>\n",
       "      <td>90</td>\n",
       "      <td>96</td>\n",
       "      <td>1.27</td>\n",
       "      <td>CF</td>\n",
       "      <td>1618886342</td>\n",
       "    </tr>\n",
       "    <tr>\n",
       "      <th>10</th>\n",
       "      <td>jalingo</td>\n",
       "      <td>8.8833</td>\n",
       "      <td>11.3667</td>\n",
       "      <td>301.43</td>\n",
       "      <td>53</td>\n",
       "      <td>99</td>\n",
       "      <td>2.45</td>\n",
       "      <td>NG</td>\n",
       "      <td>1618886342</td>\n",
       "    </tr>\n",
       "    <tr>\n",
       "      <th>11</th>\n",
       "      <td>vila velha</td>\n",
       "      <td>-20.3297</td>\n",
       "      <td>-40.2925</td>\n",
       "      <td>297.15</td>\n",
       "      <td>83</td>\n",
       "      <td>75</td>\n",
       "      <td>3.60</td>\n",
       "      <td>BR</td>\n",
       "      <td>1618886343</td>\n",
       "    </tr>\n",
       "    <tr>\n",
       "      <th>12</th>\n",
       "      <td>dawson creek</td>\n",
       "      <td>55.7666</td>\n",
       "      <td>-120.2362</td>\n",
       "      <td>284.15</td>\n",
       "      <td>35</td>\n",
       "      <td>1</td>\n",
       "      <td>4.12</td>\n",
       "      <td>CA</td>\n",
       "      <td>1618886343</td>\n",
       "    </tr>\n",
       "    <tr>\n",
       "      <th>13</th>\n",
       "      <td>ossora</td>\n",
       "      <td>59.2353</td>\n",
       "      <td>163.0719</td>\n",
       "      <td>274.15</td>\n",
       "      <td>93</td>\n",
       "      <td>100</td>\n",
       "      <td>3.47</td>\n",
       "      <td>RU</td>\n",
       "      <td>1618886344</td>\n",
       "    </tr>\n",
       "    <tr>\n",
       "      <th>14</th>\n",
       "      <td>barsovo</td>\n",
       "      <td>61.1667</td>\n",
       "      <td>73.1667</td>\n",
       "      <td>265.15</td>\n",
       "      <td>86</td>\n",
       "      <td>90</td>\n",
       "      <td>6.00</td>\n",
       "      <td>RU</td>\n",
       "      <td>1618886344</td>\n",
       "    </tr>\n",
       "    <tr>\n",
       "      <th>15</th>\n",
       "      <td>lampa</td>\n",
       "      <td>-33.2833</td>\n",
       "      <td>-70.9000</td>\n",
       "      <td>290.93</td>\n",
       "      <td>87</td>\n",
       "      <td>1</td>\n",
       "      <td>3.60</td>\n",
       "      <td>CL</td>\n",
       "      <td>1618886345</td>\n",
       "    </tr>\n",
       "    <tr>\n",
       "      <th>16</th>\n",
       "      <td>singapore</td>\n",
       "      <td>1.2897</td>\n",
       "      <td>103.8501</td>\n",
       "      <td>305.15</td>\n",
       "      <td>51</td>\n",
       "      <td>75</td>\n",
       "      <td>1.54</td>\n",
       "      <td>SG</td>\n",
       "      <td>1618885805</td>\n",
       "    </tr>\n",
       "    <tr>\n",
       "      <th>17</th>\n",
       "      <td>saint-philippe</td>\n",
       "      <td>-21.3585</td>\n",
       "      <td>55.7679</td>\n",
       "      <td>297.15</td>\n",
       "      <td>88</td>\n",
       "      <td>90</td>\n",
       "      <td>1.03</td>\n",
       "      <td>RE</td>\n",
       "      <td>1618886345</td>\n",
       "    </tr>\n",
       "    <tr>\n",
       "      <th>18</th>\n",
       "      <td>kapaa</td>\n",
       "      <td>22.0752</td>\n",
       "      <td>-159.3190</td>\n",
       "      <td>300.37</td>\n",
       "      <td>69</td>\n",
       "      <td>1</td>\n",
       "      <td>5.14</td>\n",
       "      <td>US</td>\n",
       "      <td>1618886136</td>\n",
       "    </tr>\n",
       "  </tbody>\n",
       "</table>\n",
       "</div>"
      ],
      "text/plain": [
       "              City      Lat      Long  Max Temp  Humidity  Cloudiness  \\\n",
       "0       bredasdorp -34.5322   20.0403    287.15        82          33   \n",
       "1     general roca -39.0333  -67.5833    297.15        59         100   \n",
       "2     punta arenas -53.1500  -70.9167    280.15        70          20   \n",
       "3       georgetown   5.4112  100.3354    303.15        79          20   \n",
       "4           avarua -21.2078 -159.7750    300.15        69          75   \n",
       "5          rikitea -23.1203 -134.9692    298.85        71           4   \n",
       "6            bluff -46.6000  168.3333    293.15        52           1   \n",
       "7        cape town -33.9258   18.4232    289.26        77           0   \n",
       "8        tuatapere -46.1333  167.6833    293.15        52          18   \n",
       "9             boda   4.3189   17.4695    294.25        90          96   \n",
       "10         jalingo   8.8833   11.3667    301.43        53          99   \n",
       "11      vila velha -20.3297  -40.2925    297.15        83          75   \n",
       "12    dawson creek  55.7666 -120.2362    284.15        35           1   \n",
       "13          ossora  59.2353  163.0719    274.15        93         100   \n",
       "14         barsovo  61.1667   73.1667    265.15        86          90   \n",
       "15           lampa -33.2833  -70.9000    290.93        87           1   \n",
       "16       singapore   1.2897  103.8501    305.15        51          75   \n",
       "17  saint-philippe -21.3585   55.7679    297.15        88          90   \n",
       "18           kapaa  22.0752 -159.3190    300.37        69           1   \n",
       "\n",
       "    Wind Speed Country        Date  \n",
       "0         5.66      ZA  1618886183  \n",
       "1         7.23      AR  1618886070  \n",
       "2         7.20      CL  1618885926  \n",
       "3         0.51      MY  1618886139  \n",
       "4         4.12      CK  1618886338  \n",
       "5         3.64      PF  1618886339  \n",
       "6         2.68      NZ  1618886340  \n",
       "7         3.60      ZA  1618886226  \n",
       "8         2.68      NZ  1618886341  \n",
       "9         1.27      CF  1618886342  \n",
       "10        2.45      NG  1618886342  \n",
       "11        3.60      BR  1618886343  \n",
       "12        4.12      CA  1618886343  \n",
       "13        3.47      RU  1618886344  \n",
       "14        6.00      RU  1618886344  \n",
       "15        3.60      CL  1618886345  \n",
       "16        1.54      SG  1618885805  \n",
       "17        1.03      RE  1618886345  \n",
       "18        5.14      US  1618886136  "
      ]
     },
     "execution_count": 34,
     "metadata": {},
     "output_type": "execute_result"
    }
   ],
   "source": [
    "weather_data"
   ]
  },
  {
   "cell_type": "code",
   "execution_count": 35,
   "metadata": {},
   "outputs": [],
   "source": [
    "weather_data.to_csv(output_data_file)"
   ]
  },
  {
   "cell_type": "code",
   "execution_count": 14,
   "metadata": {},
   "outputs": [
    {
     "data": {
      "text/html": [
       "<div>\n",
       "<style scoped>\n",
       "    .dataframe tbody tr th:only-of-type {\n",
       "        vertical-align: middle;\n",
       "    }\n",
       "\n",
       "    .dataframe tbody tr th {\n",
       "        vertical-align: top;\n",
       "    }\n",
       "\n",
       "    .dataframe thead th {\n",
       "        text-align: right;\n",
       "    }\n",
       "</style>\n",
       "<table border=\"1\" class=\"dataframe\">\n",
       "  <thead>\n",
       "    <tr style=\"text-align: right;\">\n",
       "      <th></th>\n",
       "      <th>Lat</th>\n",
       "      <th>Long</th>\n",
       "      <th>Max Temp</th>\n",
       "      <th>Humidity</th>\n",
       "      <th>Cloudiness</th>\n",
       "      <th>Wind Speed</th>\n",
       "      <th>Date</th>\n",
       "    </tr>\n",
       "  </thead>\n",
       "  <tbody>\n",
       "    <tr>\n",
       "      <th>count</th>\n",
       "      <td>18.000000</td>\n",
       "      <td>18.000000</td>\n",
       "      <td>18.000000</td>\n",
       "      <td>18.000000</td>\n",
       "      <td>18.000000</td>\n",
       "      <td>18.000000</td>\n",
       "      <td>1.800000e+01</td>\n",
       "    </tr>\n",
       "    <tr>\n",
       "      <th>mean</th>\n",
       "      <td>17.036344</td>\n",
       "      <td>-5.172306</td>\n",
       "      <td>283.082222</td>\n",
       "      <td>75.388889</td>\n",
       "      <td>56.388889</td>\n",
       "      <td>3.094444</td>\n",
       "      <td>1.618785e+09</td>\n",
       "    </tr>\n",
       "    <tr>\n",
       "      <th>std</th>\n",
       "      <td>46.654230</td>\n",
       "      <td>113.185488</td>\n",
       "      <td>14.374648</td>\n",
       "      <td>20.219789</td>\n",
       "      <td>40.630529</td>\n",
       "      <td>1.602495</td>\n",
       "      <td>1.503071e+02</td>\n",
       "    </tr>\n",
       "    <tr>\n",
       "      <th>min</th>\n",
       "      <td>-46.600000</td>\n",
       "      <td>-175.200000</td>\n",
       "      <td>248.370000</td>\n",
       "      <td>31.000000</td>\n",
       "      <td>0.000000</td>\n",
       "      <td>0.850000</td>\n",
       "      <td>1.618784e+09</td>\n",
       "    </tr>\n",
       "    <tr>\n",
       "      <th>25%</th>\n",
       "      <td>-31.052900</td>\n",
       "      <td>-94.792000</td>\n",
       "      <td>278.347500</td>\n",
       "      <td>74.500000</td>\n",
       "      <td>11.750000</td>\n",
       "      <td>2.097500</td>\n",
       "      <td>1.618785e+09</td>\n",
       "    </tr>\n",
       "    <tr>\n",
       "      <th>50%</th>\n",
       "      <td>40.781150</td>\n",
       "      <td>7.563600</td>\n",
       "      <td>287.590000</td>\n",
       "      <td>82.500000</td>\n",
       "      <td>74.000000</td>\n",
       "      <td>3.225000</td>\n",
       "      <td>1.618785e+09</td>\n",
       "    </tr>\n",
       "    <tr>\n",
       "      <th>75%</th>\n",
       "      <td>58.159625</td>\n",
       "      <td>67.121300</td>\n",
       "      <td>291.005000</td>\n",
       "      <td>88.000000</td>\n",
       "      <td>93.000000</td>\n",
       "      <td>3.990000</td>\n",
       "      <td>1.618785e+09</td>\n",
       "    </tr>\n",
       "    <tr>\n",
       "      <th>max</th>\n",
       "      <td>73.506900</td>\n",
       "      <td>168.864300</td>\n",
       "      <td>300.150000</td>\n",
       "      <td>100.000000</td>\n",
       "      <td>100.000000</td>\n",
       "      <td>6.170000</td>\n",
       "      <td>1.618785e+09</td>\n",
       "    </tr>\n",
       "  </tbody>\n",
       "</table>\n",
       "</div>"
      ],
      "text/plain": [
       "             Lat        Long    Max Temp    Humidity  Cloudiness  Wind Speed  \\\n",
       "count  18.000000   18.000000   18.000000   18.000000   18.000000   18.000000   \n",
       "mean   17.036344   -5.172306  283.082222   75.388889   56.388889    3.094444   \n",
       "std    46.654230  113.185488   14.374648   20.219789   40.630529    1.602495   \n",
       "min   -46.600000 -175.200000  248.370000   31.000000    0.000000    0.850000   \n",
       "25%   -31.052900  -94.792000  278.347500   74.500000   11.750000    2.097500   \n",
       "50%    40.781150    7.563600  287.590000   82.500000   74.000000    3.225000   \n",
       "75%    58.159625   67.121300  291.005000   88.000000   93.000000    3.990000   \n",
       "max    73.506900  168.864300  300.150000  100.000000  100.000000    6.170000   \n",
       "\n",
       "               Date  \n",
       "count  1.800000e+01  \n",
       "mean   1.618785e+09  \n",
       "std    1.503071e+02  \n",
       "min    1.618784e+09  \n",
       "25%    1.618785e+09  \n",
       "50%    1.618785e+09  \n",
       "75%    1.618785e+09  \n",
       "max    1.618785e+09  "
      ]
     },
     "execution_count": 14,
     "metadata": {},
     "output_type": "execute_result"
    }
   ],
   "source": [
    "weather_data.describe()"
   ]
  },
  {
   "cell_type": "markdown",
   "metadata": {},
   "source": [
    "## Inspect the data and remove the cities where the humidity > 100%.\n",
    "----\n",
    "Skip this step if there are no cities that have humidity > 100%. "
   ]
  },
  {
   "cell_type": "code",
   "execution_count": 15,
   "metadata": {},
   "outputs": [
    {
     "data": {
      "text/html": [
       "<div>\n",
       "<style scoped>\n",
       "    .dataframe tbody tr th:only-of-type {\n",
       "        vertical-align: middle;\n",
       "    }\n",
       "\n",
       "    .dataframe tbody tr th {\n",
       "        vertical-align: top;\n",
       "    }\n",
       "\n",
       "    .dataframe thead th {\n",
       "        text-align: right;\n",
       "    }\n",
       "</style>\n",
       "<table border=\"1\" class=\"dataframe\">\n",
       "  <thead>\n",
       "    <tr style=\"text-align: right;\">\n",
       "      <th></th>\n",
       "      <th>City</th>\n",
       "      <th>Lat</th>\n",
       "      <th>Long</th>\n",
       "      <th>Max Temp</th>\n",
       "      <th>Humidity</th>\n",
       "      <th>Cloudiness</th>\n",
       "      <th>Wind Speed</th>\n",
       "      <th>Country</th>\n",
       "      <th>Date</th>\n",
       "    </tr>\n",
       "  </thead>\n",
       "  <tbody>\n",
       "    <tr>\n",
       "      <th>0</th>\n",
       "      <td>norman wells</td>\n",
       "      <td>65.2820</td>\n",
       "      <td>-126.8329</td>\n",
       "      <td>282.15</td>\n",
       "      <td>43</td>\n",
       "      <td>1</td>\n",
       "      <td>2.57</td>\n",
       "      <td>CA</td>\n",
       "      <td>1618785042</td>\n",
       "    </tr>\n",
       "    <tr>\n",
       "      <th>1</th>\n",
       "      <td>mataura</td>\n",
       "      <td>-46.1927</td>\n",
       "      <td>168.8643</td>\n",
       "      <td>287.59</td>\n",
       "      <td>85</td>\n",
       "      <td>94</td>\n",
       "      <td>0.89</td>\n",
       "      <td>NZ</td>\n",
       "      <td>1618785043</td>\n",
       "    </tr>\n",
       "    <tr>\n",
       "      <th>2</th>\n",
       "      <td>chuy</td>\n",
       "      <td>-33.6971</td>\n",
       "      <td>-53.4616</td>\n",
       "      <td>290.57</td>\n",
       "      <td>78</td>\n",
       "      <td>0</td>\n",
       "      <td>3.38</td>\n",
       "      <td>UY</td>\n",
       "      <td>1618785043</td>\n",
       "    </tr>\n",
       "    <tr>\n",
       "      <th>3</th>\n",
       "      <td>cape town</td>\n",
       "      <td>-33.9258</td>\n",
       "      <td>18.4232</td>\n",
       "      <td>293.15</td>\n",
       "      <td>88</td>\n",
       "      <td>0</td>\n",
       "      <td>5.66</td>\n",
       "      <td>ZA</td>\n",
       "      <td>1618784404</td>\n",
       "    </tr>\n",
       "    <tr>\n",
       "      <th>4</th>\n",
       "      <td>rikitea</td>\n",
       "      <td>-23.1203</td>\n",
       "      <td>-134.9692</td>\n",
       "      <td>298.60</td>\n",
       "      <td>76</td>\n",
       "      <td>9</td>\n",
       "      <td>4.20</td>\n",
       "      <td>PF</td>\n",
       "      <td>1618785044</td>\n",
       "    </tr>\n",
       "    <tr>\n",
       "      <th>5</th>\n",
       "      <td>northview</td>\n",
       "      <td>43.0456</td>\n",
       "      <td>-85.6006</td>\n",
       "      <td>288.15</td>\n",
       "      <td>31</td>\n",
       "      <td>75</td>\n",
       "      <td>5.14</td>\n",
       "      <td>US</td>\n",
       "      <td>1618785044</td>\n",
       "    </tr>\n",
       "    <tr>\n",
       "      <th>7</th>\n",
       "      <td>thompson</td>\n",
       "      <td>55.7435</td>\n",
       "      <td>-97.8558</td>\n",
       "      <td>272.15</td>\n",
       "      <td>37</td>\n",
       "      <td>20</td>\n",
       "      <td>6.17</td>\n",
       "      <td>CA</td>\n",
       "      <td>1618785045</td>\n",
       "    </tr>\n",
       "    <tr>\n",
       "      <th>8</th>\n",
       "      <td>stromness</td>\n",
       "      <td>58.9650</td>\n",
       "      <td>-3.2960</td>\n",
       "      <td>282.15</td>\n",
       "      <td>81</td>\n",
       "      <td>90</td>\n",
       "      <td>2.06</td>\n",
       "      <td>GB</td>\n",
       "      <td>1618785045</td>\n",
       "    </tr>\n",
       "    <tr>\n",
       "      <th>9</th>\n",
       "      <td>ocnita</td>\n",
       "      <td>44.9833</td>\n",
       "      <td>25.5500</td>\n",
       "      <td>277.59</td>\n",
       "      <td>88</td>\n",
       "      <td>100</td>\n",
       "      <td>1.27</td>\n",
       "      <td>RO</td>\n",
       "      <td>1618785046</td>\n",
       "    </tr>\n",
       "    <tr>\n",
       "      <th>10</th>\n",
       "      <td>tilichiki</td>\n",
       "      <td>60.4667</td>\n",
       "      <td>166.1000</td>\n",
       "      <td>272.14</td>\n",
       "      <td>89</td>\n",
       "      <td>100</td>\n",
       "      <td>0.85</td>\n",
       "      <td>RU</td>\n",
       "      <td>1618784991</td>\n",
       "    </tr>\n",
       "    <tr>\n",
       "      <th>11</th>\n",
       "      <td>port elizabeth</td>\n",
       "      <td>-33.9180</td>\n",
       "      <td>25.5701</td>\n",
       "      <td>291.15</td>\n",
       "      <td>55</td>\n",
       "      <td>0</td>\n",
       "      <td>3.60</td>\n",
       "      <td>ZA</td>\n",
       "      <td>1618785046</td>\n",
       "    </tr>\n",
       "    <tr>\n",
       "      <th>12</th>\n",
       "      <td>alofi</td>\n",
       "      <td>-19.0595</td>\n",
       "      <td>-169.9187</td>\n",
       "      <td>300.15</td>\n",
       "      <td>78</td>\n",
       "      <td>36</td>\n",
       "      <td>3.60</td>\n",
       "      <td>NU</td>\n",
       "      <td>1618785047</td>\n",
       "    </tr>\n",
       "    <tr>\n",
       "      <th>13</th>\n",
       "      <td>stolin</td>\n",
       "      <td>51.8912</td>\n",
       "      <td>26.8460</td>\n",
       "      <td>280.62</td>\n",
       "      <td>88</td>\n",
       "      <td>66</td>\n",
       "      <td>3.07</td>\n",
       "      <td>BY</td>\n",
       "      <td>1618784992</td>\n",
       "    </tr>\n",
       "    <tr>\n",
       "      <th>14</th>\n",
       "      <td>ribeira grande</td>\n",
       "      <td>38.5167</td>\n",
       "      <td>-28.7000</td>\n",
       "      <td>289.70</td>\n",
       "      <td>84</td>\n",
       "      <td>73</td>\n",
       "      <td>2.60</td>\n",
       "      <td>PT</td>\n",
       "      <td>1618785047</td>\n",
       "    </tr>\n",
       "    <tr>\n",
       "      <th>15</th>\n",
       "      <td>vaini</td>\n",
       "      <td>-21.2000</td>\n",
       "      <td>-175.2000</td>\n",
       "      <td>300.15</td>\n",
       "      <td>74</td>\n",
       "      <td>75</td>\n",
       "      <td>4.12</td>\n",
       "      <td>TO</td>\n",
       "      <td>1618784993</td>\n",
       "    </tr>\n",
       "    <tr>\n",
       "      <th>16</th>\n",
       "      <td>khatanga</td>\n",
       "      <td>71.9667</td>\n",
       "      <td>102.5000</td>\n",
       "      <td>253.51</td>\n",
       "      <td>97</td>\n",
       "      <td>97</td>\n",
       "      <td>3.42</td>\n",
       "      <td>RU</td>\n",
       "      <td>1618785048</td>\n",
       "    </tr>\n",
       "    <tr>\n",
       "      <th>17</th>\n",
       "      <td>bluff</td>\n",
       "      <td>-46.6000</td>\n",
       "      <td>168.3333</td>\n",
       "      <td>287.59</td>\n",
       "      <td>85</td>\n",
       "      <td>79</td>\n",
       "      <td>0.89</td>\n",
       "      <td>NZ</td>\n",
       "      <td>1618785048</td>\n",
       "    </tr>\n",
       "  </tbody>\n",
       "</table>\n",
       "</div>"
      ],
      "text/plain": [
       "              City      Lat      Long  Max Temp  Humidity  Cloudiness  \\\n",
       "0     norman wells  65.2820 -126.8329    282.15        43           1   \n",
       "1          mataura -46.1927  168.8643    287.59        85          94   \n",
       "2             chuy -33.6971  -53.4616    290.57        78           0   \n",
       "3        cape town -33.9258   18.4232    293.15        88           0   \n",
       "4          rikitea -23.1203 -134.9692    298.60        76           9   \n",
       "5        northview  43.0456  -85.6006    288.15        31          75   \n",
       "7         thompson  55.7435  -97.8558    272.15        37          20   \n",
       "8        stromness  58.9650   -3.2960    282.15        81          90   \n",
       "9           ocnita  44.9833   25.5500    277.59        88         100   \n",
       "10       tilichiki  60.4667  166.1000    272.14        89         100   \n",
       "11  port elizabeth -33.9180   25.5701    291.15        55           0   \n",
       "12           alofi -19.0595 -169.9187    300.15        78          36   \n",
       "13          stolin  51.8912   26.8460    280.62        88          66   \n",
       "14  ribeira grande  38.5167  -28.7000    289.70        84          73   \n",
       "15           vaini -21.2000 -175.2000    300.15        74          75   \n",
       "16        khatanga  71.9667  102.5000    253.51        97          97   \n",
       "17           bluff -46.6000  168.3333    287.59        85          79   \n",
       "\n",
       "    Wind Speed Country        Date  \n",
       "0         2.57      CA  1618785042  \n",
       "1         0.89      NZ  1618785043  \n",
       "2         3.38      UY  1618785043  \n",
       "3         5.66      ZA  1618784404  \n",
       "4         4.20      PF  1618785044  \n",
       "5         5.14      US  1618785044  \n",
       "7         6.17      CA  1618785045  \n",
       "8         2.06      GB  1618785045  \n",
       "9         1.27      RO  1618785046  \n",
       "10        0.85      RU  1618784991  \n",
       "11        3.60      ZA  1618785046  \n",
       "12        3.60      NU  1618785047  \n",
       "13        3.07      BY  1618784992  \n",
       "14        2.60      PT  1618785047  \n",
       "15        4.12      TO  1618784993  \n",
       "16        3.42      RU  1618785048  \n",
       "17        0.89      NZ  1618785048  "
      ]
     },
     "execution_count": 15,
     "metadata": {},
     "output_type": "execute_result"
    }
   ],
   "source": [
    "weather_data = weather_data[weather_data['Humidity']<100]\n",
    "weather_data"
   ]
  },
  {
   "cell_type": "markdown",
   "metadata": {},
   "source": [
    "## Plotting the Data\n",
    "* Use proper labeling of the plots using plot titles (including date of analysis) and axes labels.\n",
    "* Save the plotted figures as .pngs."
   ]
  },
  {
   "cell_type": "markdown",
   "metadata": {},
   "source": [
    "## Latitude vs. Temperature Plot"
   ]
  },
  {
   "cell_type": "code",
   "execution_count": 16,
   "metadata": {
    "scrolled": true
   },
   "outputs": [
    {
     "data": {
      "text/plain": [
       "<AxesSubplot:xlabel='Lat', ylabel='Max Temp'>"
      ]
     },
     "execution_count": 16,
     "metadata": {},
     "output_type": "execute_result"
    },
    {
     "data": {
      "image/png": "[encoded data removed]",
      "text/plain": [
       "<Figure size 432x288 with 1 Axes>"
      ]
     },
     "metadata": {
      "needs_background": "light"
     },
     "output_type": "display_data"
    }
   ],
   "source": [
    "weather_data.plot(x='Lat', y='Max Temp', kind='scatter')"
   ]
  },
  {
   "cell_type": "markdown",
   "metadata": {},
   "source": [
    "## Latitude vs. Humidity Plot"
   ]
  },
  {
   "cell_type": "code",
   "execution_count": 17,
   "metadata": {},
   "outputs": [
    {
     "data": {
      "text/plain": [
       "<AxesSubplot:xlabel='Lat', ylabel='Humidity'>"
      ]
     },
     "execution_count": 17,
     "metadata": {},
     "output_type": "execute_result"
    },
    {
     "data": {
      "image/png": "[encoded data removed]",
      "text/plain": [
       "<Figure size 432x288 with 1 Axes>"
      ]
     },
     "metadata": {
      "needs_background": "light"
     },
     "output_type": "display_data"
    }
   ],
   "source": [
    "weather_data.plot(x='Lat', y='Humidity', kind='scatter')"
   ]
  },
  {
   "cell_type": "markdown",
   "metadata": {},
   "source": [
    "## Latitude vs. Cloudiness Plot"
   ]
  },
  {
   "cell_type": "code",
   "execution_count": 18,
   "metadata": {},
   "outputs": [
    {
     "data": {
      "text/plain": [
       "<AxesSubplot:xlabel='Lat', ylabel='Cloudiness'>"
      ]
     },
     "execution_count": 18,
     "metadata": {},
     "output_type": "execute_result"
    },
    {
     "data": {
      "image/png": "[encoded data removed]",
      "text/plain": [
       "<Figure size 432x288 with 1 Axes>"
      ]
     },
     "metadata": {
      "needs_background": "light"
     },
     "output_type": "display_data"
    }
   ],
   "source": [
    "weather_data.plot(x='Lat', y='Cloudiness', kind='scatter')"
   ]
  },
  {
   "cell_type": "markdown",
   "metadata": {},
   "source": [
    "## Latitude vs. Wind Speed Plot"
   ]
  },
  {
   "cell_type": "code",
   "execution_count": 19,
   "metadata": {},
   "outputs": [
    {
     "data": {
      "text/plain": [
       "<AxesSubplot:xlabel='Lat', ylabel='Wind Speed'>"
      ]
     },
     "execution_count": 19,
     "metadata": {},
     "output_type": "execute_result"
    },
    {
     "data": {
      "image/png": "[encoded data removed]",
      "text/plain": [
       "<Figure size 432x288 with 1 Axes>"
      ]
     },
     "metadata": {
      "needs_background": "light"
     },
     "output_type": "display_data"
    }
   ],
   "source": [
    "weather_data.plot(x='Lat', y='Wind Speed', kind='scatter')"
   ]
  },
  {
   "cell_type": "markdown",
   "metadata": {},
   "source": [
    "## Linear Regression"
   ]
  },
  {
   "cell_type": "markdown",
   "metadata": {},
   "source": [
    "####  Northern Hemisphere - Max Temp vs. Latitude Linear Regression"
   ]
  },
  {
   "cell_type": "code",
   "execution_count": 20,
   "metadata": {},
   "outputs": [
    {
     "name": "stdout",
     "output_type": "stream",
     "text": [
      "              City      Lat      Long  Max Temp  Humidity  Cloudiness  \\\n",
      "0     norman wells  65.2820 -126.8329    282.15        43           1   \n",
      "5        northview  43.0456  -85.6006    288.15        31          75   \n",
      "7         thompson  55.7435  -97.8558    272.15        37          20   \n",
      "8        stromness  58.9650   -3.2960    282.15        81          90   \n",
      "9           ocnita  44.9833   25.5500    277.59        88         100   \n",
      "10       tilichiki  60.4667  166.1000    272.14        89         100   \n",
      "13          stolin  51.8912   26.8460    280.62        88          66   \n",
      "14  ribeira grande  38.5167  -28.7000    289.70        84          73   \n",
      "16        khatanga  71.9667  102.5000    253.51        97          97   \n",
      "\n",
      "    Wind Speed Country        Date  \n",
      "0         2.57      CA  1618785042  \n",
      "5         5.14      US  1618785044  \n",
      "7         6.17      CA  1618785045  \n",
      "8         2.06      GB  1618785045  \n",
      "9         1.27      RO  1618785046  \n",
      "10        0.85      RU  1618784991  \n",
      "13        3.07      BY  1618784992  \n",
      "14        2.60      PT  1618785047  \n",
      "16        3.42      RU  1618785048  \n",
      "0     214.142486\n",
      "5     230.859999\n",
      "7     221.313611\n",
      "8     218.891660\n",
      "9     229.403219\n",
      "10    217.762669\n",
      "13    224.209802\n",
      "14    234.264864\n",
      "16    209.116873\n",
      "Name: Lat, dtype: float64\n",
      "y = -0.75x +263.22\n"
     ]
    }
   ],
   "source": [
    "nhW = weather_data[(weather_data['Lat']>0)]\n",
    "print(nhW)\n",
    "(slope, intercept, rvalue, pvalue, stderr) = stats.linregress(nhW['Max Temp'], nhW['Lat'])\n",
    "regress_values = nhW['Lat'] * slope + intercept\n",
    "print(regress_values)\n",
    "line_eq = 'y = ' + str(round(slope, 2)) + 'x +' + str(round(intercept, 2))\n",
    "print(line_eq)"
   ]
  },
  {
   "cell_type": "code",
   "execution_count": 21,
   "metadata": {},
   "outputs": [
    {
     "name": "stdout",
     "output_type": "stream",
     "text": [
      "0.5567736149899225\n"
     ]
    },
    {
     "data": {
      "image/png": "[encoded data removed]",
      "text/plain": [
       "<Figure size 432x288 with 1 Axes>"
      ]
     },
     "metadata": {
      "needs_background": "light"
     },
     "output_type": "display_data"
    }
   ],
   "source": [
    "x_values = nhW['Lat']\n",
    "y_values = nhW['Max Temp']\n",
    "plt.scatter(x_values, y_values)\n",
    "plt.plot(x_values, regress_values, \"r-\")\n",
    "plt.xlabel('Lat')\n",
    "plt.ylabel('Max Temp')\n",
    "plt.annotate(line_eq, (20,400))\n",
    "print(rvalue **2)"
   ]
  },
  {
   "cell_type": "markdown",
   "metadata": {},
   "source": [
    "####  Southern Hemisphere - Max Temp vs. Latitude Linear Regression"
   ]
  },
  {
   "cell_type": "code",
   "execution_count": 48,
   "metadata": {},
   "outputs": [
    {
     "name": "stdout",
     "output_type": "stream",
     "text": [
      "            City      Lat      Long  Max Temp  Humidity  Cloudiness  \\\n",
      "9          vaini -21.2000 -175.2000    300.15        74          75   \n",
      "11         bluff -46.6000  168.3333    287.04        87          77   \n",
      "12        atuona  -9.8000 -139.0333    300.08        77           9   \n",
      "13   new norfolk -42.7826  147.0587    287.04        76         100   \n",
      "14        hobart -42.8794  147.3294    287.04        67          75   \n",
      "16     cape town -33.9258   18.4232    293.15        94           0   \n",
      "17  constitucion -35.3333  -72.4167    287.89        76          76   \n",
      "\n",
      "    Wind Speed Country        Date  \n",
      "9         4.12      TO  1618783805  \n",
      "11        1.34      NZ  1618783845  \n",
      "12        8.11      PF  1618783186  \n",
      "13        0.45      AU  1618783932  \n",
      "14        3.60      AU  1618783680  \n",
      "16        4.63      ZA  1618783120  \n",
      "17        2.59      CL  1618783933  \n",
      "9    -673.260217\n",
      "11   -725.204780\n",
      "12   -649.946515\n",
      "13   -717.397962\n",
      "14   -717.595924\n",
      "16   -699.285261\n",
      "17   -702.163685\n",
      "Name: Lat, dtype: float64\n",
      "y = 2.05x +-629.9\n",
      "0.8798472577993613\n"
     ]
    },
    {
     "data": {
      "image/png": "[encoded data removed]",
      "text/plain": [
       "<Figure size 432x288 with 1 Axes>"
      ]
     },
     "metadata": {
      "needs_background": "light"
     },
     "output_type": "display_data"
    }
   ],
   "source": [
    "shW = weather_data[(weather_data['Lat']<0)]\n",
    "print(shW)\n",
    "(slope, intercept, rvalue, pvalue, stderr) = stats.linregress(shW['Max Temp'], shW['Lat'])\n",
    "regress_values = shW['Lat'] * slope + intercept\n",
    "print(regress_values)\n",
    "line_eq = 'y = ' + str(round(slope, 2)) + 'x +' + str(round(intercept, 2))\n",
    "print(line_eq)\n",
    "x_values = shW['Lat']\n",
    "y_values = shW['Max Temp']\n",
    "plt.scatter(x_values, y_values)\n",
    "plt.plot(x_values, regress_values, \"r-\")\n",
    "plt.xlabel('Lat')\n",
    "plt.ylabel('Max Temp')\n",
    "plt.annotate(line_eq, (-30,-400))\n",
    "print(rvalue **2)"
   ]
  },
  {
   "cell_type": "markdown",
   "metadata": {},
   "source": [
    "####  Northern Hemisphere - Humidity (%) vs. Latitude Linear Regression"
   ]
  },
  {
   "cell_type": "code",
   "execution_count": 55,
   "metadata": {},
   "outputs": [
    {
     "name": "stdout",
     "output_type": "stream",
     "text": [
      "0.00925270265335115\n"
     ]
    },
    {
     "data": {
      "image/png": "[encoded data removed]",
      "text/plain": [
       "<Figure size 432x288 with 1 Axes>"
      ]
     },
     "metadata": {
      "needs_background": "light"
     },
     "output_type": "display_data"
    }
   ],
   "source": [
    "nhW = weather_data[(weather_data['Lat']>0)]\n",
    "(slope, intercept, rvalue, pvalue, stderr) = stats.linregress(nhW['Humidity'], nhW['Lat'])\n",
    "regress_values = nhW['Lat'] * slope + intercept\n",
    "line_eq = 'y = ' + str(round(slope, 2)) + 'x +' + str(round(intercept, 2))\n",
    "x_values = nhW['Lat']\n",
    "y_values = nhW['Humidity']\n",
    "plt.scatter(x_values, y_values)\n",
    "plt.plot(x_values, regress_values, \"r-\")\n",
    "plt.xlabel('Lat')\n",
    "plt.ylabel('Humidity')\n",
    "plt.annotate(line_eq, (20,400))\n",
    "print(rvalue **2)"
   ]
  },
  {
   "cell_type": "markdown",
   "metadata": {},
   "source": [
    "####  Southern Hemisphere - Humidity (%) vs. Latitude Linear Regression"
   ]
  },
  {
   "cell_type": "code",
   "execution_count": 56,
   "metadata": {},
   "outputs": [
    {
     "name": "stdout",
     "output_type": "stream",
     "text": [
      "0.01064813855016369\n"
     ]
    },
    {
     "data": {
      "image/png": "[encoded data removed]",
      "text/plain": [
       "<Figure size 432x288 with 1 Axes>"
      ]
     },
     "metadata": {
      "needs_background": "light"
     },
     "output_type": "display_data"
    }
   ],
   "source": [
    "shW = weather_data[(weather_data['Lat']<0)]\n",
    "(slope, intercept, rvalue, pvalue, stderr) = stats.linregress(shW['Humidity'], shW['Lat'])\n",
    "regress_values = shW['Lat'] * slope + intercept\n",
    "line_eq = 'y = ' + str(round(slope, 2)) + 'x +' + str(round(intercept, 2))\n",
    "x_values = shW['Lat']\n",
    "y_values = shW['Humidity']\n",
    "plt.scatter(x_values, y_values)\n",
    "plt.plot(x_values, regress_values, \"r-\")\n",
    "plt.xlabel('Lat')\n",
    "plt.ylabel('Humidity')\n",
    "plt.annotate(line_eq, (20,400))\n",
    "print(rvalue **2)"
   ]
  },
  {
   "cell_type": "markdown",
   "metadata": {},
   "source": [
    "####  Northern Hemisphere - Cloudiness (%) vs. Latitude Linear Regression"
   ]
  },
  {
   "cell_type": "code",
   "execution_count": 57,
   "metadata": {},
   "outputs": [
    {
     "name": "stdout",
     "output_type": "stream",
     "text": [
      "0.03953739371204862\n"
     ]
    },
    {
     "data": {
      "image/png": "[encoded data removed]",
      "text/plain": [
       "<Figure size 432x288 with 1 Axes>"
      ]
     },
     "metadata": {
      "needs_background": "light"
     },
     "output_type": "display_data"
    }
   ],
   "source": [
    "nhW = weather_data[(weather_data['Lat']>0)]\n",
    "(slope, intercept, rvalue, pvalue, stderr) = stats.linregress(nhW['Cloudiness'], nhW['Lat'])\n",
    "regress_values = nhW['Lat'] * slope + intercept\n",
    "line_eq = 'y = ' + str(round(slope, 2)) + 'x +' + str(round(intercept, 2))\n",
    "x_values = nhW['Lat']\n",
    "y_values = nhW['Cloudiness']\n",
    "plt.scatter(x_values, y_values)\n",
    "plt.plot(x_values, regress_values, \"r-\")\n",
    "plt.xlabel('Lat')\n",
    "plt.ylabel('Cloudiness')\n",
    "plt.annotate(line_eq, (20,400))\n",
    "print(rvalue **2)"
   ]
  },
  {
   "cell_type": "markdown",
   "metadata": {},
   "source": [
    "####  Southern Hemisphere - Cloudiness (%) vs. Latitude Linear Regression"
   ]
  },
  {
   "cell_type": "code",
   "execution_count": 58,
   "metadata": {},
   "outputs": [
    {
     "name": "stdout",
     "output_type": "stream",
     "text": [
      "0.3321935037770656\n"
     ]
    },
    {
     "data": {
      "image/png": "[encoded data removed]",
      "text/plain": [
       "<Figure size 432x288 with 1 Axes>"
      ]
     },
     "metadata": {
      "needs_background": "light"
     },
     "output_type": "display_data"
    }
   ],
   "source": [
    "shW = weather_data[(weather_data['Lat']<0)]\n",
    "(slope, intercept, rvalue, pvalue, stderr) = stats.linregress(shW['Cloudiness'], shW['Lat'])\n",
    "regress_values = shW['Lat'] * slope + intercept\n",
    "line_eq = 'y = ' + str(round(slope, 2)) + 'x +' + str(round(intercept, 2))\n",
    "x_values = shW['Lat']\n",
    "y_values = shW['Cloudiness']\n",
    "plt.scatter(x_values, y_values)\n",
    "plt.plot(x_values, regress_values, \"r-\")\n",
    "plt.xlabel('Lat')\n",
    "plt.ylabel('Cloudiness')\n",
    "plt.annotate(line_eq, (20,400))\n",
    "print(rvalue **2)"
   ]
  },
  {
   "cell_type": "markdown",
   "metadata": {},
   "source": [
    "####  Northern Hemisphere - Wind Speed (mph) vs. Latitude Linear Regression"
   ]
  },
  {
   "cell_type": "code",
   "execution_count": 59,
   "metadata": {},
   "outputs": [
    {
     "name": "stdout",
     "output_type": "stream",
     "text": [
      "0.06943015161241362\n"
     ]
    },
    {
     "data": {
      "image/png": "[encoded data removed]",
      "text/plain": [
       "<Figure size 432x288 with 1 Axes>"
      ]
     },
     "metadata": {
      "needs_background": "light"
     },
     "output_type": "display_data"
    }
   ],
   "source": [
    "nhW = weather_data[(weather_data['Lat']>0)]\n",
    "(slope, intercept, rvalue, pvalue, stderr) = stats.linregress(nhW['Wind Speed'], nhW['Lat'])\n",
    "regress_values = nhW['Lat'] * slope + intercept\n",
    "line_eq = 'y = ' + str(round(slope, 2)) + 'x +' + str(round(intercept, 2))\n",
    "x_values = nhW['Lat']\n",
    "y_values = nhW['Wind Speed']\n",
    "plt.scatter(x_values, y_values)\n",
    "plt.plot(x_values, regress_values, \"r-\")\n",
    "plt.xlabel('Lat')\n",
    "plt.ylabel('Cloudiness')\n",
    "plt.annotate(line_eq, (20,400))\n",
    "print(rvalue **2)"
   ]
  },
  {
   "cell_type": "markdown",
   "metadata": {},
   "source": [
    "####  Southern Hemisphere - Wind Speed (mph) vs. Latitude Linear Regression"
   ]
  },
  {
   "cell_type": "code",
   "execution_count": 60,
   "metadata": {},
   "outputs": [
    {
     "name": "stdout",
     "output_type": "stream",
     "text": [
      "0.753244161405427\n"
     ]
    },
    {
     "data": {
      "image/png": "[encoded data removed]",
      "text/plain": [
       "<Figure size 432x288 with 1 Axes>"
      ]
     },
     "metadata": {
      "needs_background": "light"
     },
     "output_type": "display_data"
    }
   ],
   "source": [
    "shW = weather_data[(weather_data['Lat']<0)]\n",
    "(slope, intercept, rvalue, pvalue, stderr) = stats.linregress(shW['Wind Speed'], shW['Lat'])\n",
    "regress_values = shW['Lat'] * slope + intercept\n",
    "line_eq = 'y = ' + str(round(slope, 2)) + 'x +' + str(round(intercept, 2))\n",
    "x_values = shW['Lat']\n",
    "y_values = shW['Wind Speed']\n",
    "plt.scatter(x_values, y_values)\n",
    "plt.plot(x_values, regress_values, \"r-\")\n",
    "plt.xlabel('Lat')\n",
    "plt.ylabel('Cloudiness')\n",
    "plt.annotate(line_eq, (20,400))\n",
    "print(rvalue **2)"
   ]
  },
  {
   "cell_type": "code",
   "execution_count": null,
   "metadata": {},
   "outputs": [],
   "source": []
  }
 ],
 "metadata": {
  "anaconda-cloud": {},
  "kernel_info": {
   "name": "python3"
  },
  "kernelspec": {
   "display_name": "Python 3",
   "language": "python",
   "name": "python3"
  },
  "language_info": {
   "codemirror_mode": {
    "name": "ipython",
    "version": 3
   },
   "file_extension": ".py",
   "mimetype": "text/x-python",
   "name": "python",
   "nbconvert_exporter": "python",
   "pygments_lexer": "ipython3",
   "version": "3.7.6"
  },
  "latex_envs": {
   "LaTeX_envs_menu_present": true,
   "autoclose": false,
   "autocomplete": true,
   "bibliofile": "biblio.bib",
   "cite_by": "apalike",
   "current_citInitial": 1,
   "eqLabelWithNumbers": true,
   "eqNumInitial": 1,
   "hotkeys": {
    "equation": "Ctrl-E",
    "itemize": "Ctrl-I"
   },
   "labels_anchors": false,
   "latex_user_defs": false,
   "report_style_numbering": false,
   "user_envs_cfg": false
  },
  "nteract": {
   "version": "0.12.3"
  }
 },
 "nbformat": 4,
 "nbformat_minor": 2
}
